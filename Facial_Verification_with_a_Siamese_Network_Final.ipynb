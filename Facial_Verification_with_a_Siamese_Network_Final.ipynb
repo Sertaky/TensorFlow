{
  "cells": [
    {
      "cell_type": "markdown",
      "metadata": {
        "id": "view-in-github",
        "colab_type": "text"
      },
      "source": [
        "<a href=\"https://colab.research.google.com/github/Sertaky/TensorFlow/blob/main/Facial_Verification_with_a_Siamese_Network_Final.ipynb\" target=\"_parent\"><img src=\"https://colab.research.google.com/assets/colab-badge.svg\" alt=\"Open In Colab\"/></a>"
      ]
    },
    {
      "cell_type": "markdown",
      "metadata": {
        "id": "HLIHNkaqDo5t"
      },
      "source": [
        "# 1. Setup"
      ]
    },
    {
      "cell_type": "markdown",
      "metadata": {
        "id": "y6aIg4WgDo50"
      },
      "source": [
        "## 1.1 Install Dependencies"
      ]
    },
    {
      "cell_type": "code",
      "execution_count": null,
      "metadata": {
        "id": "LQUFHGVKDo51",
        "outputId": "55883c5e-9d10-46c9-aa06-9ec7a95c6af6"
      },
      "outputs": [
        {
          "name": "stdout",
          "output_type": "stream",
          "text": [
            "Requirement already satisfied: opencv-python in c:\\users\\emose\\anaconda3\\envs\\tf_gpu\\lib\\site-packages (4.6.0.66)\n",
            "Requirement already satisfied: matplotlib in c:\\users\\emose\\anaconda3\\envs\\tf_gpu\\lib\\site-packages (3.5.2)\n",
            "Requirement already satisfied: numpy>=1.17.3 in c:\\users\\emose\\anaconda3\\envs\\tf_gpu\\lib\\site-packages (from opencv-python) (1.18.5)\n",
            "Requirement already satisfied: kiwisolver>=1.0.1 in c:\\users\\emose\\anaconda3\\envs\\tf_gpu\\lib\\site-packages (from matplotlib) (1.4.4)\n",
            "Requirement already satisfied: python-dateutil>=2.7 in c:\\users\\emose\\anaconda3\\envs\\tf_gpu\\lib\\site-packages (from matplotlib) (2.8.2)\n",
            "Requirement already satisfied: pillow>=6.2.0 in c:\\users\\emose\\anaconda3\\envs\\tf_gpu\\lib\\site-packages (from matplotlib) (9.2.0)\n",
            "Requirement already satisfied: packaging>=20.0 in c:\\users\\emose\\anaconda3\\envs\\tf_gpu\\lib\\site-packages (from matplotlib) (21.3)\n",
            "Requirement already satisfied: pyparsing>=2.2.1 in c:\\users\\emose\\anaconda3\\envs\\tf_gpu\\lib\\site-packages (from matplotlib) (3.0.4)\n",
            "Requirement already satisfied: fonttools>=4.22.0 in c:\\users\\emose\\anaconda3\\envs\\tf_gpu\\lib\\site-packages (from matplotlib) (4.34.4)\n",
            "Requirement already satisfied: cycler>=0.10 in c:\\users\\emose\\anaconda3\\envs\\tf_gpu\\lib\\site-packages (from matplotlib) (0.11.0)\n",
            "Requirement already satisfied: six>=1.5 in c:\\users\\emose\\anaconda3\\envs\\tf_gpu\\lib\\site-packages (from python-dateutil>=2.7->matplotlib) (1.16.0)\n",
            "Note: you may need to restart the kernel to use updated packages.\n"
          ]
        }
      ],
      "source": [
        "pip install opencv-python matplotlib"
      ]
    },
    {
      "cell_type": "markdown",
      "metadata": {
        "id": "R__lewesDo54"
      },
      "source": [
        "## 1.2 Import Dependencies"
      ]
    },
    {
      "cell_type": "code",
      "execution_count": null,
      "metadata": {
        "id": "MFxpij9FDo55"
      },
      "outputs": [],
      "source": [
        "# Import standard dependencies\n",
        "import cv2\n",
        "import os\n",
        "import random\n",
        "import numpy as np\n",
        "from matplotlib import pyplot as plt"
      ]
    },
    {
      "cell_type": "code",
      "execution_count": null,
      "metadata": {
        "id": "nxNiRMMDDo57"
      },
      "outputs": [],
      "source": [
        "# Import tensorflow dependencies - Functional API\n",
        "import tensorflow as tf\n",
        "from tensorflow.keras.models import Model\n",
        "from tensorflow.keras.layers import Layer, Conv2D, Dense, MaxPooling2D, Input, Flatten"
      ]
    },
    {
      "cell_type": "markdown",
      "metadata": {
        "id": "y3IhqQgODo57"
      },
      "source": [
        "## 1.3 Set GPU Growth"
      ]
    },
    {
      "cell_type": "code",
      "execution_count": null,
      "metadata": {
        "id": "F6LCeC43Do58"
      },
      "outputs": [],
      "source": [
        "# Avoid OOM errors by setting GPU Memory Consumption Growth\n",
        "gpus = tf.config.experimental.list_physical_devices('GPU')\n",
        "for gpu in gpus: \n",
        "    tf.config.experimental.set_memory_growth(gpu, True)"
      ]
    },
    {
      "cell_type": "markdown",
      "metadata": {
        "id": "dAkh2p3IDo59"
      },
      "source": [
        "## 1.4 Create Folder Structures"
      ]
    },
    {
      "cell_type": "code",
      "execution_count": null,
      "metadata": {
        "id": "dPLuTtyCDo5-"
      },
      "outputs": [],
      "source": [
        "# Setup paths\n",
        "POS_PATH = os.path.join('data', 'positive')\n",
        "NEG_PATH = os.path.join('data', 'negative')\n",
        "ANC_PATH = os.path.join('data', 'anchor')"
      ]
    },
    {
      "cell_type": "code",
      "execution_count": null,
      "metadata": {
        "id": "ksrroioBDo5_",
        "outputId": "4f725b7b-ee6d-4624-909f-7f5c86465c54"
      },
      "outputs": [
        {
          "ename": "FileExistsError",
          "evalue": "[WinError 183] Cannot create a file when that file already exists: 'data\\\\positive'",
          "output_type": "error",
          "traceback": [
            "\u001b[1;31m---------------------------------------------------------------------------\u001b[0m",
            "\u001b[1;31mFileExistsError\u001b[0m                           Traceback (most recent call last)",
            "\u001b[1;32m<ipython-input-5-be98a451f4f2>\u001b[0m in \u001b[0;36m<module>\u001b[1;34m\u001b[0m\n\u001b[0;32m      1\u001b[0m \u001b[1;31m# Make the directories\u001b[0m\u001b[1;33m\u001b[0m\u001b[1;33m\u001b[0m\u001b[1;33m\u001b[0m\u001b[0m\n\u001b[1;32m----> 2\u001b[1;33m \u001b[0mos\u001b[0m\u001b[1;33m.\u001b[0m\u001b[0mmakedirs\u001b[0m\u001b[1;33m(\u001b[0m\u001b[0mPOS_PATH\u001b[0m\u001b[1;33m)\u001b[0m\u001b[1;33m\u001b[0m\u001b[1;33m\u001b[0m\u001b[0m\n\u001b[0m\u001b[0;32m      3\u001b[0m \u001b[0mos\u001b[0m\u001b[1;33m.\u001b[0m\u001b[0mmakedirs\u001b[0m\u001b[1;33m(\u001b[0m\u001b[0mNEG_PATH\u001b[0m\u001b[1;33m)\u001b[0m\u001b[1;33m\u001b[0m\u001b[1;33m\u001b[0m\u001b[0m\n\u001b[0;32m      4\u001b[0m \u001b[0mos\u001b[0m\u001b[1;33m.\u001b[0m\u001b[0mmakedirs\u001b[0m\u001b[1;33m(\u001b[0m\u001b[0mANC_PATH\u001b[0m\u001b[1;33m)\u001b[0m\u001b[1;33m\u001b[0m\u001b[1;33m\u001b[0m\u001b[0m\n",
            "\u001b[1;32m~\\Anaconda3\\lib\\os.py\u001b[0m in \u001b[0;36mmakedirs\u001b[1;34m(name, mode, exist_ok)\u001b[0m\n\u001b[0;32m    221\u001b[0m             \u001b[1;32mreturn\u001b[0m\u001b[1;33m\u001b[0m\u001b[1;33m\u001b[0m\u001b[0m\n\u001b[0;32m    222\u001b[0m     \u001b[1;32mtry\u001b[0m\u001b[1;33m:\u001b[0m\u001b[1;33m\u001b[0m\u001b[1;33m\u001b[0m\u001b[0m\n\u001b[1;32m--> 223\u001b[1;33m         \u001b[0mmkdir\u001b[0m\u001b[1;33m(\u001b[0m\u001b[0mname\u001b[0m\u001b[1;33m,\u001b[0m \u001b[0mmode\u001b[0m\u001b[1;33m)\u001b[0m\u001b[1;33m\u001b[0m\u001b[1;33m\u001b[0m\u001b[0m\n\u001b[0m\u001b[0;32m    224\u001b[0m     \u001b[1;32mexcept\u001b[0m \u001b[0mOSError\u001b[0m\u001b[1;33m:\u001b[0m\u001b[1;33m\u001b[0m\u001b[1;33m\u001b[0m\u001b[0m\n\u001b[0;32m    225\u001b[0m         \u001b[1;31m# Cannot rely on checking for EEXIST, since the operating system\u001b[0m\u001b[1;33m\u001b[0m\u001b[1;33m\u001b[0m\u001b[1;33m\u001b[0m\u001b[0m\n",
            "\u001b[1;31mFileExistsError\u001b[0m: [WinError 183] Cannot create a file when that file already exists: 'data\\\\positive'"
          ]
        }
      ],
      "source": [
        "# Make the directories\n",
        "os.makedirs(POS_PATH)\n",
        "os.makedirs(NEG_PATH)\n",
        "os.makedirs(ANC_PATH)"
      ]
    },
    {
      "cell_type": "markdown",
      "metadata": {
        "id": "th9kYBVnDo6A"
      },
      "source": [
        "# 2. Collect Positives and Anchors"
      ]
    },
    {
      "cell_type": "markdown",
      "metadata": {
        "id": "WxICEgm8Do6A"
      },
      "source": [
        "## 2.1 Untar Labelled Faces in the Wild Dataset"
      ]
    },
    {
      "cell_type": "code",
      "execution_count": null,
      "metadata": {
        "id": "O92BJ_LtDo6B"
      },
      "outputs": [],
      "source": [
        "# http://vis-www.cs.umass.edu/lfw/"
      ]
    },
    {
      "cell_type": "code",
      "execution_count": null,
      "metadata": {
        "id": "cL2lziR1Do6B"
      },
      "outputs": [],
      "source": [
        "# Uncompress Tar GZ Labelled Faces in the Wild Dataset\n",
        "!tar -xf lfw.tgz"
      ]
    },
    {
      "cell_type": "code",
      "execution_count": null,
      "metadata": {
        "id": "M2CnuEYLDo6C"
      },
      "outputs": [],
      "source": [
        "# Move LFW Images to the following repository data/negative\n",
        "for directory in os.listdir('lfw'):           \n",
        "    for file in os.listdir(os.path.join('lfw', directory)):\n",
        "        EX_PATH = os.path.join('lfw', directory, file)\n",
        "        NEW_PATH = os.path.join(NEG_PATH, file)\n",
        "        os.replace(EX_PATH, NEW_PATH)"
      ]
    },
    {
      "cell_type": "code",
      "execution_count": null,
      "metadata": {
        "id": "tFFjqbI-Do6D",
        "outputId": "d5454a15-55f4-4dd0-e4ae-1036ee452c39"
      },
      "outputs": [
        {
          "data": {
            "text/plain": [
              "['Aaron_Eckhart',\n",
              " 'Aaron_Guiel',\n",
              " 'Aaron_Patterson',\n",
              " 'Aaron_Peirsol',\n",
              " 'Aaron_Pena',\n",
              " 'Aaron_Sorkin',\n",
              " 'Aaron_Tippin',\n",
              " 'Abbas_Kiarostami',\n",
              " 'Abba_Eban',\n",
              " 'Abdel_Aziz_Al-Hakim',\n",
              " 'Abdel_Madi_Shabneh',\n",
              " 'Abdel_Nasser_Assidi',\n",
              " 'Abdoulaye_Wade',\n",
              " 'Abdulaziz_Kamilov',\n",
              " 'Abdullah',\n",
              " 'Abdullah_Ahmad_Badawi',\n",
              " 'Abdullah_al-Attiyah',\n",
              " 'Abdullah_Gul',\n",
              " 'Abdullah_Nasseef',\n",
              " 'Abdullatif_Sener',\n",
              " 'Abdul_Majeed_Shobokshi',\n",
              " 'Abdul_Rahman',\n",
              " 'Abel_Aguilar',\n",
              " 'Abel_Pacheco',\n",
              " 'Abid_Hamid_Mahmud_Al-Tikriti',\n",
              " 'Abner_Martinez',\n",
              " 'Abraham_Foxman',\n",
              " 'Aby_Har-Even',\n",
              " 'Adam_Ant',\n",
              " 'Adam_Freier',\n",
              " 'Adam_Herbert',\n",
              " 'Adam_Kennedy',\n",
              " 'Adam_Mair',\n",
              " 'Adam_Rich',\n",
              " 'Adam_Sandler',\n",
              " 'Adam_Scott',\n",
              " 'Adelina_Avila',\n",
              " 'Adel_Al-Jubeir',\n",
              " 'Adisai_Bodharamik',\n",
              " 'Adolfo_Aguilar_Zinser',\n",
              " 'Adolfo_Rodriguez_Saa',\n",
              " 'Adoor_Gopalakarishnan',\n",
              " 'Adriana_Lima',\n",
              " 'Adriana_Perez_Navarro',\n",
              " 'Adrianna_Zuzic',\n",
              " 'Adrian_Annus',\n",
              " 'Adrian_Fernandez',\n",
              " 'Adrian_McPherson',\n",
              " 'Adrian_Murrell',\n",
              " 'Adrian_Nastase',\n",
              " 'Adrien_Brody',\n",
              " 'Afton_Smith',\n",
              " 'Agbani_Darego',\n",
              " 'Agnelo_Queiroz',\n",
              " 'Agnes_Bruckner',\n",
              " 'Ahmad_Jbarah',\n",
              " 'Ahmad_Masood',\n",
              " 'Ahmed_Ahmed',\n",
              " 'Ahmed_Chalabi',\n",
              " 'Ahmed_Ghazi',\n",
              " 'Ahmed_Ibrahim_Bilal',\n",
              " 'Ahmed_Lopez',\n",
              " 'Ahmed_Qureia',\n",
              " 'Ahmet_Demir',\n",
              " 'Ahmet_Necdet_Sezer',\n",
              " 'Aicha_El_Ouafi',\n",
              " 'Aidan_Quinn',\n",
              " 'Aileen_Riggin_Soule',\n",
              " 'Ainsworth_Dyer',\n",
              " 'Ain_Seppik',\n",
              " 'Aishwarya_Rai',\n",
              " 'Aitor_Gonzalez',\n",
              " 'Aiysha_Smith',\n",
              " 'Ai_Sugiyama',\n",
              " 'Ajit_Agarkar',\n",
              " 'AJ_Cook',\n",
              " 'AJ_Lamas',\n",
              " 'Akbar_Al_Baker',\n",
              " 'Akbar_Hashemi_Rafsanjani',\n",
              " 'Akhmed_Zakayev',\n",
              " 'Akiko_Morigami',\n",
              " 'Akmal_Taher',\n",
              " 'Alain_Cervantes',\n",
              " 'Alain_Ducasse',\n",
              " 'Alanis_Morissette',\n",
              " 'Alanna_Ubach',\n",
              " 'Alan_Ball',\n",
              " 'Alan_Dershowitz',\n",
              " 'Alan_Dreher',\n",
              " 'Alan_Greenspan',\n",
              " 'Alan_Greer',\n",
              " 'Alan_Jackson',\n",
              " 'Alan_Mulally',\n",
              " 'Alan_Stonecipher',\n",
              " 'Alan_Tang_Kwong-wing',\n",
              " 'Alan_Trammell',\n",
              " 'Alan_Zemaitis',\n",
              " 'Alastair_Campbell',\n",
              " 'Alastair_Johnston',\n",
              " 'Albaro_Recoba',\n",
              " 'Alberta_Lee',\n",
              " 'Alberto_Acosta',\n",
              " 'Alberto_Fujimori',\n",
              " 'Alberto_Gonzales',\n",
              " 'Alberto_Ruiz_Gallardon',\n",
              " 'Alberto_Sordi',\n",
              " 'Albert_Brooks',\n",
              " 'Albert_Costa',\n",
              " 'Albert_Montanes',\n",
              " 'Albert_Pujols',\n",
              " 'Albrecht_Mentz',\n",
              " 'Aldo_Paredes',\n",
              " 'Alecos_Markides',\n",
              " 'Alec_Baldwin',\n",
              " 'Alejandro_Atchugarry',\n",
              " 'Alejandro_Avila',\n",
              " 'Alejandro_Fernandez',\n",
              " 'Alejandro_Gonzalez_Inarritu',\n",
              " 'Alejandro_Lembo',\n",
              " 'Alejandro_Lerner',\n",
              " 'Alejandro_Lopez',\n",
              " 'Alejandro_Toledo',\n",
              " 'Aleksander_Kwasniewski',\n",
              " 'Aleksander_Voloshin',\n",
              " 'Alek_Wek',\n",
              " 'Alessandra_Cerna',\n",
              " 'Alessandro_Nesta',\n",
              " 'Alexander_Downer',\n",
              " 'Alexander_Losyukov',\n",
              " 'Alexander_Lukashenko',\n",
              " 'Alexander_Payne',\n",
              " 'Alexander_Rumyantsev',\n",
              " 'Alexandra_Jackson',\n",
              " 'Alexandra_Pelosi',\n",
              " 'Alexandra_Rozovskaya',\n",
              " 'Alexandra_Spann',\n",
              " 'Alexandra_Stevenson',\n",
              " 'Alexandra_Vodjanikova',\n",
              " 'Alexandre_Daigle',\n",
              " 'Alexandre_Despatie',\n",
              " 'Alexandre_Herchcovitch',\n",
              " 'Alexandre_Vinokourov',\n",
              " 'Alexa_Loren',\n",
              " 'Alexa_Vega',\n",
              " 'Alexis_Bledel',\n",
              " 'Alexis_Dennisoff',\n",
              " 'Alex_Barros',\n",
              " 'Alex_Cabrera',\n",
              " 'Alex_Cejka',\n",
              " 'Alex_Corretja',\n",
              " 'Alex_Ferguson',\n",
              " 'Alex_Gonzalez',\n",
              " 'Alex_Holmes',\n",
              " 'Alex_King',\n",
              " 'Alex_Penelas',\n",
              " 'Alex_Popov',\n",
              " 'Alex_Sink',\n",
              " 'Alex_Wallau',\n",
              " 'Alex_Zanardi',\n",
              " 'Alfonso_Cuaron',\n",
              " 'Alfonso_Portillo',\n",
              " 'Alfonso_Soriano',\n",
              " 'Alfredo_di_Stefano',\n",
              " 'Alfredo_Moreno',\n",
              " 'Alfredo_Pena',\n",
              " 'Alfred_Ford',\n",
              " 'Alfred_Sant',\n",
              " 'Alice_Fisher',\n",
              " 'Alicia_Hollowell',\n",
              " 'Alicia_Keys',\n",
              " 'Alicia_Molik',\n",
              " 'Alicia_Silverstone',\n",
              " 'Alicia_Witt',\n",
              " 'Alimzhan_Tokhtakhounov',\n",
              " 'Alina_Kabaeva',\n",
              " 'Aline_Chretien',\n",
              " 'Alisha_Richman',\n",
              " 'Alison_Krauss',\n",
              " 'Alison_Lohman',\n",
              " 'Alistair_MacDonald',\n",
              " 'Ali_Abbas',\n",
              " 'Ali_Abdullah_Saleh',\n",
              " 'Ali_Adbul_Karim_Madani',\n",
              " 'Ali_Ahmeti',\n",
              " 'Ali_Bin_Hussein',\n",
              " 'Ali_Fallahian',\n",
              " 'Ali_Hammoud',\n",
              " 'Ali_Khamenei',\n",
              " 'Ali_Mohammed_Maher',\n",
              " 'Ali_Naimi',\n",
              " 'Allan_Houston',\n",
              " 'Allan_Kemakeza',\n",
              " 'Allan_Wagner',\n",
              " 'Allen_Iverson',\n",
              " 'Allen_Rock',\n",
              " 'Allison_Janney',\n",
              " 'Allison_Searing',\n",
              " 'Allyson_Felix',\n",
              " 'Ally_Sheedy',\n",
              " 'Alma_Powell',\n",
              " 'Almeida_Baptista',\n",
              " 'Alonzo_Mourning',\n",
              " 'Alvaro_Noboa',\n",
              " 'Alvaro_Silva_Calderon',\n",
              " 'Alvaro_Uribe',\n",
              " 'Alyse_Beaupre',\n",
              " 'Alyson_Hannigan',\n",
              " 'Aly_Wagner',\n",
              " 'Al_Cardenas',\n",
              " 'Al_Davis',\n",
              " 'Al_Gore',\n",
              " 'Al_Leiter',\n",
              " 'Al_Pacino',\n",
              " 'Al_Sharpton',\n",
              " 'Amanda_Beard',\n",
              " 'Amanda_Bynes',\n",
              " 'Amanda_Coetzer',\n",
              " 'Amanda_Marsh',\n",
              " 'Amanda_Plumer',\n",
              " 'Amber_Frey',\n",
              " 'Amber_Tamblyn',\n",
              " 'Ambrose_Lee',\n",
              " 'Amelia_Vega',\n",
              " 'Amelie_Mauresmo',\n",
              " 'Amer_al-Saadi',\n",
              " 'Amporn_Falise',\n",
              " 'Amram_Mitzna',\n",
              " 'Amr_Moussa',\n",
              " 'Amy_Brenneman',\n",
              " 'Amy_Cotton',\n",
              " 'Amy_Gale',\n",
              " 'Amy_Pascal',\n",
              " 'Amy_Redford',\n",
              " 'Amy_Smart',\n",
              " 'Amy_Yasbeck',\n",
              " 'Anastasia_Kelesidou',\n",
              " 'Anastasia_Myskina',\n",
              " 'Anatoliy_Kinakh',\n",
              " 'Ana_Claudia_Talancon',\n",
              " 'Ana_Guevara',\n",
              " 'Ana_Isabel_Sanchez',\n",
              " 'Ana_Palacio',\n",
              " 'Ana_Paula_Gerard',\n",
              " 'Ana_Sebastiao',\n",
              " 'Anderson_Varejao',\n",
              " 'Anders_Ebbeson',\n",
              " 'Anders_Fogh_Rasmussen',\n",
              " 'Andreas_Vinciguerra',\n",
              " 'Andrea_Bocelli',\n",
              " 'Andrea_De_Cruz',\n",
              " 'Andrea_Kiser',\n",
              " 'Andrea_Yates',\n",
              " 'Andrei_Konchalovsky',\n",
              " 'Andrei_Mikhnevich',\n",
              " 'Andrei_Nikolishin',\n",
              " 'Andres_DAlessandro',\n",
              " 'Andres_Manuel_Lopez_Obrador',\n",
              " 'Andres_Pastrana',\n",
              " 'Andrew_Bernard',\n",
              " 'Andrew_Bunner',\n",
              " 'Andrew_Caldecott',\n",
              " 'Andrew_Cuomo',\n",
              " 'Andrew_Fastow',\n",
              " 'Andrew_Firestone',\n",
              " 'Andrew_Gilligan',\n",
              " 'Andrew_Jarecki',\n",
              " 'Andrew_Luster',\n",
              " 'Andrew_Niccol',\n",
              " 'Andrew_Sabey',\n",
              " 'Andrew_Shutley',\n",
              " 'Andrew_Weissmann',\n",
              " 'Andrew_Wetzler',\n",
              " 'Andre_Agassi',\n",
              " 'Andre_Bucher',\n",
              " 'Andre_Lange',\n",
              " 'Andre_Smith',\n",
              " 'Andre_Techine',\n",
              " 'Andrzej_Tyszkiewicz',\n",
              " 'Andy_Benes',\n",
              " 'Andy_Bryant',\n",
              " 'Andy_Dick',\n",
              " 'Andy_Garcia',\n",
              " 'Andy_Graves',\n",
              " 'Andy_Griffith',\n",
              " 'Andy_Griggs',\n",
              " 'Andy_Hebb',\n",
              " 'Andy_Lau',\n",
              " 'Andy_Madikians',\n",
              " 'Andy_North',\n",
              " 'Andy_Perez',\n",
              " 'Andy_Roddick',\n",
              " 'Andy_Rooney',\n",
              " 'Andy_Warhol',\n",
              " 'Andy_Wisecarver',\n",
              " 'Anette_Hosoi',\n",
              " 'AnFernce_Negron',\n",
              " 'Angela_Alvarado_Rosa',\n",
              " 'Angela_Bassett',\n",
              " 'Angela_Lansbury',\n",
              " 'Angela_Mascia-Frye',\n",
              " 'Angela_Merkel',\n",
              " 'Angelica_Romero',\n",
              " 'Angelina_Jolie',\n",
              " 'Angelo_Genova',\n",
              " 'Angelo_Reyes',\n",
              " 'Angel_Lockward',\n",
              " 'Angel_Maza',\n",
              " 'Angie_Arzola',\n",
              " 'Angie_Martinez',\n",
              " 'Anibal_Ibarra',\n",
              " 'Anil_Ramsook',\n",
              " 'Anita_DeFrantz',\n",
              " 'Anja_Paerson',\n",
              " 'Anjum_Hussain',\n",
              " 'Anna_Chicherova',\n",
              " 'Anna_Faris',\n",
              " 'Anna_Jones',\n",
              " 'Anna_Kournikova',\n",
              " 'Anna_Nicole_Smith',\n",
              " 'Anneli_Jaatteenmaki',\n",
              " 'Annette_Bening',\n",
              " 'Annette_Lu',\n",
              " 'Anne_Cavers',\n",
              " 'Anne_Donovan',\n",
              " 'Anne_Heche',\n",
              " 'Anne_Krueger',\n",
              " 'Anne_McLellan',\n",
              " 'Anne_ONeil',\n",
              " 'Annie-Jeanne_Reynaud',\n",
              " 'Annie_Chaplin',\n",
              " 'Annie_Machon',\n",
              " 'Annika_Sorenstam',\n",
              " 'Ann_Godbehere',\n",
              " 'Ann_Landers',\n",
              " 'Ann_Morgan',\n",
              " 'Ann_Veneman',\n",
              " 'Antanas_Valionis',\n",
              " 'Anthony_Carter',\n",
              " 'Anthony_Corso',\n",
              " 'Anthony_Ervin',\n",
              " 'Anthony_Fauci',\n",
              " 'Anthony_Garotinho',\n",
              " 'Anthony_Hazen',\n",
              " 'Anthony_Hopkins',\n",
              " 'Anthony_LaPaglia',\n",
              " 'Anthony_Lee_Johnson',\n",
              " 'Anthony_Mazur',\n",
              " 'Anthony_Pico',\n",
              " 'Anthony_Pisciotti',\n",
              " 'Anthony_Principi',\n",
              " 'Anthony_Rackauckas',\n",
              " 'Anthony_Scott_Miller',\n",
              " 'Antje_Buschschulte',\n",
              " 'Antonio_Banderas',\n",
              " 'Antonio_Bernardo',\n",
              " 'Antonio_Cassano',\n",
              " 'Antonio_Catania',\n",
              " 'Antonio_Elias_Saca',\n",
              " 'Antonio_Palocci',\n",
              " 'Antonio_Trillanes',\n",
              " 'Antony_Leung',\n",
              " 'Anton_Balasingham',\n",
              " 'Antwun_Echols',\n",
              " 'Anwar_Ibrahim',\n",
              " 'Anzori_Kikalishvili',\n",
              " 'Aparna_Pillai',\n",
              " 'Aram_Adler',\n",
              " 'Arantxa_Sanchez-Vicario',\n",
              " 'Aretha_Franklin',\n",
              " 'Arianna_Huffington',\n",
              " 'Ariel_Sharon',\n",
              " 'Arie_Haan',\n",
              " 'Arif_Mardin',\n",
              " 'Ari_Bousbib',\n",
              " 'Ari_Fleischer',\n",
              " 'Arlen_Specter',\n",
              " 'Armando_Avila_Panchame',\n",
              " 'Armando_Calderon_Sol',\n",
              " 'Armando_Carrillo',\n",
              " 'Armand_Sargen',\n",
              " 'Arminio_Fraga',\n",
              " 'Arnaud_Clement',\n",
              " 'Arnaud_Lagardere',\n",
              " 'Arnie_Boehm',\n",
              " 'Arnoldo_Aleman',\n",
              " 'Arnold_Palmer',\n",
              " 'Arnold_Schwarzenegger',\n",
              " 'Arnold_Scott',\n",
              " 'Aron_Ralston',\n",
              " 'Arsinee_Khanjian',\n",
              " 'Arthur_Johnson',\n",
              " 'Arthur_Martinez',\n",
              " 'Artieas_Shanks',\n",
              " 'Arturo_Gatti',\n",
              " 'Art_Cooper',\n",
              " 'Art_Hoffmann',\n",
              " 'Art_Howe',\n",
              " 'Art_Lopez',\n",
              " 'Arye_Mekel',\n",
              " 'Asa_Hutchinson',\n",
              " 'Ascencion_Barajas',\n",
              " 'Ashanti',\n",
              " 'Ashlea_Talbot',\n",
              " 'Ashley_Judd',\n",
              " 'Ashley_Olsen',\n",
              " 'Ashley_Postell',\n",
              " 'Ashraf_Alasmar',\n",
              " 'Ashraf_Ghani',\n",
              " 'Ashton_Kutcher',\n",
              " 'Asif_Ali_Zardari',\n",
              " 'Asif_Hanif',\n",
              " 'Askar_Akayev',\n",
              " 'Asmaa_Assad',\n",
              " 'Assad_Ahmadi',\n",
              " 'Astou_Ndiaye-Diatta',\n",
              " 'Astrid_Betancourt',\n",
              " 'Astrid_Eyzaguirre',\n",
              " 'Atal_Bihari_Vajpayee',\n",
              " 'Ataollah_Mohajerani',\n",
              " 'Atiabet_Ijan_Amabel',\n",
              " 'Atom_Egoyan',\n",
              " 'Atsushi_Sato',\n",
              " 'Audrey_Lacroix',\n",
              " 'Audrey_Sauret',\n",
              " 'Augustin_Calleri',\n",
              " 'Augusto_Pinochet',\n",
              " 'Augusto_Roa_Bastos',\n",
              " 'Aung_San_Suu_Kyi',\n",
              " 'Austin_Kearns',\n",
              " 'Avril_Lavigne',\n",
              " 'Azmi_Bishara',\n",
              " 'Azra_Akin',\n",
              " 'Babe_Ruth',\n",
              " 'Baburam_Bhattari',\n",
              " 'Bak_Chang-Ryun',\n",
              " 'Barbara_Bach',\n",
              " 'Barbara_Becker',\n",
              " 'Barbara_Bodine',\n",
              " 'Barbara_Boxer',\n",
              " 'Barbara_Brezigar',\n",
              " 'Barbara_De_Brun',\n",
              " 'Barbara_Esbin',\n",
              " 'Barbara_Felt-Miller',\n",
              " 'Barbara_Roberts',\n",
              " 'Barbara_Walters',\n",
              " 'Barbora_Strycova',\n",
              " 'Barbra_Streisand',\n",
              " 'Barrett_Jackman',\n",
              " 'Barry_Alvarez',\n",
              " 'Barry_Bonds',\n",
              " 'Barry_Collier',\n",
              " 'Barry_Diller',\n",
              " 'Barry_Ford',\n",
              " 'Barry_Hinson',\n",
              " 'Barry_Nakell',\n",
              " 'Barry_Switzer',\n",
              " 'Barry_Williams',\n",
              " 'Barry_Zito',\n",
              " 'Bartosz_Kizierowski',\n",
              " 'Bart_Freundlich',\n",
              " 'Bart_Hendricks',\n",
              " 'Barzan_al-Tikriti',\n",
              " 'Basdeo_Panday',\n",
              " 'Bashar_Assad',\n",
              " 'Baz_Luhrmann',\n",
              " 'BB_King',\n",
              " 'Beatrice_Dalle',\n",
              " 'Beatriz_Merino',\n",
              " 'Beecher_Ray_Kirby',\n",
              " 'Begum_Khaleda_Zia',\n",
              " 'Bela_Karolyi',\n",
              " 'Benazir_Bhutto',\n",
              " 'Benedita_da_Silva',\n",
              " 'Benicio_Del_Toro',\n",
              " 'Benito_Santiago',\n",
              " 'Benjamin_Bratt',\n",
              " 'Benjamin_Franklin',\n",
              " 'Benjamin_Martinez',\n",
              " 'Benjamin_McKenzie',\n",
              " 'Benjamin_Netanyahu',\n",
              " 'Benjamin_Neulander',\n",
              " 'Ben_Affleck',\n",
              " 'Ben_Betts',\n",
              " 'Ben_Braun',\n",
              " 'Ben_Broussard',\n",
              " 'Ben_Cahoon',\n",
              " 'Ben_Chandler',\n",
              " 'Ben_Cohen',\n",
              " 'Ben_Curtis',\n",
              " 'Ben_Davis',\n",
              " 'Ben_Glisan',\n",
              " 'Ben_Howland',\n",
              " 'Ben_Kingsley',\n",
              " 'Ben_Lee',\n",
              " 'Ben_Stein',\n",
              " 'Ben_Wallace',\n",
              " 'Bernadette_Peters',\n",
              " 'Bernardo_Segura',\n",
              " 'Bernard_Ebbers',\n",
              " 'Bernard_Giraudeau',\n",
              " 'Bernard_Kerik',\n",
              " 'Bernard_Landry',\n",
              " 'Bernard_Law',\n",
              " 'Bernard_Lord',\n",
              " 'Bernard_Siegel',\n",
              " 'Bernice_Wong',\n",
              " 'Bertie_Ahern',\n",
              " 'Bertrand_Bonello',\n",
              " 'Bertrand_Delanoe',\n",
              " 'Beth_Blough',\n",
              " 'Beth_Jones',\n",
              " 'Betsy_Coffin',\n",
              " 'Betsy_Smith',\n",
              " 'Bettina_Rheims',\n",
              " 'Betty_Garrison',\n",
              " 'Betty_Williams',\n",
              " 'Beyonce_Knowles',\n",
              " 'Bianca_Jagger',\n",
              " 'Bijan_Darvish',\n",
              " 'Bijan_Namdar_Zangeneh',\n",
              " 'Bilal_Erdogan',\n",
              " 'Biljana_Plavsic',\n",
              " 'Billy_Andrade',\n",
              " 'Billy_Beane',\n",
              " 'Billy_Bob_Thornton',\n",
              " 'Billy_Boyd',\n",
              " 'Billy_Crawford',\n",
              " 'Billy_Crystal',\n",
              " 'Billy_Donovan',\n",
              " 'Billy_Edelin',\n",
              " 'Billy_Gilman',\n",
              " 'Billy_Graham',\n",
              " 'Billy_Joel',\n",
              " 'Billy_Rork',\n",
              " 'Billy_Sollie',\n",
              " 'Billy_Tibbets',\n",
              " 'Bill_Belichick',\n",
              " 'Bill_Bradley',\n",
              " 'Bill_Butler',\n",
              " 'Bill_Byrne',\n",
              " 'Bill_Callahan',\n",
              " 'Bill_Carmody',\n",
              " 'Bill_Cartwright',\n",
              " 'Bill_Clancy',\n",
              " 'Bill_Clinton',\n",
              " 'Bill_Curry',\n",
              " 'Bill_Doba',\n",
              " 'Bill_Duffey',\n",
              " 'Bill_Elliott',\n",
              " 'Bill_Fennelly',\n",
              " 'Bill_Frist',\n",
              " 'Bill_Gates',\n",
              " 'Bill_Graham',\n",
              " 'Bill_Guerin',\n",
              " 'Bill_Herrion',\n",
              " 'Bill_Hughes',\n",
              " 'Bill_King',\n",
              " 'Bill_Kollar',\n",
              " 'Bill_Kong',\n",
              " 'Bill_Lerach',\n",
              " 'Bill_Maher',\n",
              " 'Bill_Mauldin',\n",
              " 'Bill_McBride',\n",
              " 'Bill_Nelson',\n",
              " 'Bill_OReilly',\n",
              " 'Bill_Parcells',\n",
              " 'Bill_Parsons',\n",
              " 'Bill_Paxton',\n",
              " 'Bill_Pryor',\n",
              " 'Bill_Rainer',\n",
              " 'Bill_Readdy',\n",
              " 'Bill_Richardson',\n",
              " 'Bill_Self',\n",
              " 'Bill_Simon',\n",
              " 'Bill_Sizemore',\n",
              " 'Bill_Stapleton',\n",
              " 'Bill_Stein',\n",
              " 'Bill_Walton',\n",
              " 'Bing_Crosby',\n",
              " 'Binyamin_Ben-Eliezer',\n",
              " 'Bison_Dele',\n",
              " 'Bixente_LIzarazu',\n",
              " 'BJ_Habibie',\n",
              " 'Blas_Ople',\n",
              " 'Blythe_Danner',\n",
              " 'Blythe_Hartley',\n",
              " 'Bobby_Bowden',\n",
              " 'Bobby_Goldwater',\n",
              " 'Bobby_Jackson',\n",
              " 'Bobby_Kielty',\n",
              " 'Bobby_Robson',\n",
              " 'Bobo_Balde',\n",
              " 'Bob_Alper',\n",
              " 'Bob_Beauprez',\n",
              " 'Bob_Bowlsby',\n",
              " 'Bob_Cantrell',\n",
              " 'Bob_Colvin',\n",
              " 'Bob_Crippen',\n",
              " 'Bob_Curtis',\n",
              " 'Bob_Dole',\n",
              " 'Bob_Eskridge',\n",
              " 'Bob_Ferguson',\n",
              " 'Bob_Geldof',\n",
              " 'Bob_Goldman',\n",
              " 'Bob_Graham',\n",
              " 'Bob_Guccione',\n",
              " 'Bob_Hartley',\n",
              " 'Bob_Hayes',\n",
              " 'Bob_Herz',\n",
              " 'Bob_Holden',\n",
              " 'Bob_Hope',\n",
              " 'Bob_Huggins',\n",
              " 'Bob_Iger',\n",
              " 'Bob_Krueger',\n",
              " 'Bob_Melvin',\n",
              " 'Bob_Menendez',\n",
              " 'Bob_Newhart',\n",
              " 'Bob_Petrino',\n",
              " 'Bob_Riley',\n",
              " 'Bob_Stoops',\n",
              " 'Bob_Sulkin',\n",
              " 'Bob_Taft',\n",
              " 'Bob_Wright',\n",
              " 'Bode_Miller',\n",
              " 'Bonnie_Fuller',\n",
              " 'Bonnie_Hunt',\n",
              " 'Bono',\n",
              " 'Boris_Becker',\n",
              " 'Boris_Berezovsky',\n",
              " 'Boris_Henry',\n",
              " 'Boris_Jordan',\n",
              " 'Boris_Trajkovski',\n",
              " 'Boris_Yeltsin',\n",
              " 'Boutros_Boutros_Ghali',\n",
              " 'Bo_Pelini',\n",
              " 'Bo_Ryan',\n",
              " 'Brady_Rodgers',\n",
              " 'Brad_Alexander_Smith',\n",
              " 'Brad_Banks',\n",
              " 'Brad_Brownell',\n",
              " 'Brad_Garrett',\n",
              " 'Brad_Gushue',\n",
              " 'Brad_Johnson',\n",
              " 'Brad_Miller',\n",
              " 'Brad_Pitt',\n",
              " 'Brad_Russ',\n",
              " 'Brad_Smith',\n",
              " 'Brad_Wilk',\n",
              " 'Brajesh_Mishra',\n",
              " 'Brandon_Boyd',\n",
              " 'Brandon_Fails',\n",
              " 'Brandon_Hammond',\n",
              " 'Brandon_Inge',\n",
              " 'Brandon_Jones',\n",
              " 'Brandon_Knight',\n",
              " 'Brandon_Larson',\n",
              " 'Brandon_Lloyd',\n",
              " 'Brandon_Robinson',\n",
              " 'Brandon_Spann',\n",
              " 'Brandon_Webb',\n",
              " 'Branko_Crvenkovski',\n",
              " 'Brawley_King',\n",
              " 'Brendan_Fraser',\n",
              " 'Brendan_Gaughan',\n",
              " 'Brendan_Hansen',\n",
              " 'Brendan_Stai',\n",
              " 'Brenda_Magana',\n",
              " 'Brenda_van_Dam',\n",
              " 'Brenda_Wilson',\n",
              " 'Brennon_Leighton',\n",
              " 'Brent_Coles',\n",
              " 'Brett_Boone',\n",
              " 'Brett_Hawke',\n",
              " 'Brett_Hull',\n",
              " 'Brett_Perry',\n",
              " 'Brian_Billick',\n",
              " 'Brian_Campbell',\n",
              " 'Brian_Cashman',\n",
              " 'Brian_Clemens',\n",
              " 'Brian_Cook',\n",
              " 'Brian_Cowen',\n",
              " 'Brian_De_Palma',\n",
              " 'Brian_Florence',\n",
              " 'Brian_Grazier',\n",
              " 'Brian_Gregory',\n",
              " 'Brian_Griese',\n",
              " 'Brian_Heidik',\n",
              " 'Brian_Henson',\n",
              " 'Brian_Jordan',\n",
              " 'Brian_Kerr',\n",
              " 'Brian_Lara',\n",
              " 'Brian_McIntyre',\n",
              " 'Brian_Meadors',\n",
              " 'Brian_Mulroney',\n",
              " 'Brian_Olson',\n",
              " 'Brian_Pavlich',\n",
              " 'Brian_Scalabrine',\n",
              " 'Brian_Schneider',\n",
              " 'Brian_StPierre',\n",
              " 'Brian_Van_Dusen',\n",
              " 'Brian_Weaver',\n",
              " 'Brian_Wells',\n",
              " 'Brian_Williams',\n",
              " 'Bridgette_Wilson-Sampras',\n",
              " 'Bridget_Fonda',\n",
              " 'Brigitte_Boisselier',\n",
              " 'Britney_Spears',\n",
              " 'Brittany_Snow',\n",
              " 'Brock_Berlin',\n",
              " 'Bronson_Arroyo',\n",
              " 'Brooke_Adams',\n",
              " 'Brooke_Gordon',\n",
              " 'Brooke_Shields',\n",
              " 'Brook_Robinson',\n",
              " 'Bruce_Arena',\n",
              " 'Bruce_Gebhardt',\n",
              " 'Bruce_Lunsford',\n",
              " 'Bruce_Paltrow',\n",
              " 'Bruce_Springsteen',\n",
              " 'Bruce_Van_De_Velde',\n",
              " 'Bruce_Weber',\n",
              " 'Bruce_Willis',\n",
              " 'Bruna_Colosio',\n",
              " 'Bruno_Junquiera',\n",
              " 'Bryant_Young',\n",
              " 'Bryan_Adams',\n",
              " 'Bryan_Chui',\n",
              " 'Bryan_Cooley',\n",
              " 'Bryan_Murray',\n",
              " 'Bryan_Thomas',\n",
              " 'Bryce_Carmine',\n",
              " 'Buck_Rodgers',\n",
              " 'Buddy_Ryan',\n",
              " 'Budd_Schulberg',\n",
              " 'Bud_Selig',\n",
              " 'Buford_Blount',\n",
              " 'Bulent_Ecevit',\n",
              " 'Bustam_A_Zedan_Aljanabi',\n",
              " 'Butch_Davis',\n",
              " 'Buzz_Hargrove',\n",
              " 'Byron_Scott',\n",
              " 'Cabas',\n",
              " 'Caio_Blat',\n",
              " 'Calbert_Cheaney',\n",
              " 'Calista_Flockhart',\n",
              " 'Calvin_Harrison',\n",
              " 'Calvin_Joseph_Coleman',\n",
              " 'Cameron_Diaz',\n",
              " 'Camilla_Parker_Bowles',\n",
              " 'Camille_Colvin',\n",
              " 'Camille_Lewis',\n",
              " 'Camryn_Manheim',\n",
              " 'Candace_Sutton',\n",
              " 'Candice_Beatty',\n",
              " 'Candice_Bergen',\n",
              " 'Candie_Kung',\n",
              " 'Carey_Lowell',\n",
              " 'Carina_Lau_Ka-ling',\n",
              " 'Carin_Koch',\n",
              " 'Cari_Davis',\n",
              " 'Carla_Del_Ponte',\n",
              " 'Carla_Gay_Balingit',\n",
              " 'Carla_Gugino',\n",
              " 'Carla_Moreno',\n",
              " 'Carla_Myers',\n",
              " 'Carla_Sullivan',\n",
              " 'Carla_Tricoli',\n",
              " 'Carlos_Alberto',\n",
              " 'Carlos_Alberto_Parreira',\n",
              " 'Carlos_Arroyo',\n",
              " 'Carlos_Barra',\n",
              " 'Carlos_Barragan',\n",
              " 'Carlos_Beltran',\n",
              " 'Carlos_Bianchi',\n",
              " 'Carlos_De_Abreu',\n",
              " 'Carlos_Fasciolo',\n",
              " 'Carlos_Ghosn',\n",
              " 'Carlos_Iturgaitz',\n",
              " 'Carlos_Juarez',\n",
              " 'Carlos_Lordkipanitse',\n",
              " 'Carlos_Manuel_Pruneda',\n",
              " 'Carlos_Menem',\n",
              " 'Carlos_Mesa',\n",
              " 'Carlos_Moya',\n",
              " 'Carlos_Ortega',\n",
              " 'Carlos_Paternina',\n",
              " 'Carlos_Queiroz',\n",
              " 'Carlos_Quintanilla_Schmidt',\n",
              " 'Carlos_Ruckauf',\n",
              " 'Carlos_Ruiz',\n",
              " 'Carlos_Salinas',\n",
              " 'Carlos_Savedra',\n",
              " 'Carlos_Vives',\n",
              " 'Carlo_Ancelotti',\n",
              " 'Carlo_Azeglio_Ciampi',\n",
              " 'Carlton_Baugh',\n",
              " 'Carlton_Dotson',\n",
              " 'Carly_Fiorina',\n",
              " 'Carly_Gullickson',\n",
              " 'Carl_Levin',\n",
              " 'Carl_Pope',\n",
              " 'Carl_Reiner',\n",
              " 'Carmen_Electra',\n",
              " 'Carolina_Barco',\n",
              " 'Carolina_Kluft',\n",
              " 'Carolina_Moraes',\n",
              " 'Caroline_Dhavernas',\n",
              " 'Caroline_Kennedy',\n",
              " 'Caroline_Link',\n",
              " 'Carolyn_Dawn_Johnson',\n",
              " 'Carolyn_Kuhl',\n",
              " 'Carol_Burnett',\n",
              " 'Carol_Carmody',\n",
              " 'Carol_Moseley_Braun',\n",
              " 'Carol_Niedermayer',\n",
              " 'Carol_Williams',\n",
              " 'Carrie-Anne_Moss',\n",
              " 'Carroll_Weimer',\n",
              " 'Carson_Daly',\n",
              " 'Carson_Palmer',\n",
              " 'Casey_Crowder',\n",
              " 'Casey_Mears',\n",
              " 'Cassandra_Heise',\n",
              " 'Cass_Ballenger',\n",
              " 'Casy_Preslar',\n",
              " 'Cate_Blanchett',\n",
              " 'Catherine_Bell',\n",
              " 'Catherine_Deneuve',\n",
              " 'Catherine_Donkers',\n",
              " 'Catherine_Ndereba',\n",
              " 'Catherine_Woodard',\n",
              " 'Catherine_Zeta-Jones',\n",
              " 'Cathryn_Crawford',\n",
              " 'Cathy_Chisholm',\n",
              " 'Cathy_Cunningham',\n",
              " 'Cathy_Freeman',\n",
              " 'Catriona_Le_May_Doan',\n",
              " 'Cecile_de_France',\n",
              " 'Cecilia_Bolocco',\n",
              " 'Cecilia_Chang',\n",
              " 'Cecilia_Cheung',\n",
              " 'Cedric_Benson',\n",
              " 'Celia_Cruz',\n",
              " 'Celine_Dion',\n",
              " 'Celso_Amorim',\n",
              " 'Celso_Lafer',\n",
              " 'Cemil_Cicek',\n",
              " 'Cesar_Gaviria',\n",
              " 'Cesar_Maia',\n",
              " 'Chadha_Gurinder',\n",
              " 'Chakib_Khelil',\n",
              " 'Chance_Mock',\n",
              " 'Chanda_Rubin',\n",
              " 'Chandrika_Kumaratunga',\n",
              " 'Chang_Dae-whan',\n",
              " 'Chang_Jae_On',\n",
              " 'Chang_Saio-yue',\n",
              " 'Chang_Sang',\n",
              " 'Chang_Tso',\n",
              " 'Chante_Jawan_Mallard',\n",
              " 'Chan_Choi',\n",
              " 'Chan_Gailey',\n",
              " 'Chan_Ho_Park',\n",
              " 'Charla_Moye',\n",
              " 'Charlene_Barshefsky',\n",
              " 'Charles_Bell',\n",
              " 'Charles_Bronson',\n",
              " 'Charles_Chandler_IV',\n",
              " 'Charles_Cope',\n",
              " 'Charles_Grassley',\n",
              " 'Charles_Holzner',\n",
              " 'Charles_Ingram',\n",
              " 'Charles_Kartman',\n",
              " 'Charles_Lebois',\n",
              " 'Charles_Mathews',\n",
              " 'Charles_Moose',\n",
              " 'Charles_Pickering',\n",
              " 'Charles_Pouty',\n",
              " 'Charles_Richardson',\n",
              " 'Charles_Rogers',\n",
              " 'Charles_Schumer',\n",
              " 'Charles_Tannok',\n",
              " 'Charles_Taylor',\n",
              " 'Charley_Armey',\n",
              " 'Charlie_Coles',\n",
              " 'Charlie_Deane',\n",
              " 'Charlie_Garner',\n",
              " 'Charlie_Hunnam',\n",
              " 'Charlie_Sheen',\n",
              " 'Charlie_Williams',\n",
              " 'Charlie_Zaa',\n",
              " 'Charlize_Theron',\n",
              " 'Charlotte_Casiraghi',\n",
              " 'Charlotte_Chambers',\n",
              " 'Charlotte_Church',\n",
              " 'Charlotte_Rampling',\n",
              " 'Charlton_Heston',\n",
              " 'Charmaine_Crooks',\n",
              " 'Chawki_Armali',\n",
              " 'Cha_Yung-gu',\n",
              " 'Chea_Sophara',\n",
              " 'Chelsea_Clinton',\n",
              " 'Chen_Kaige',\n",
              " 'Chen_Liang_Yu',\n",
              " 'Chen_Shui-bian',\n",
              " 'Chen_Tsai-chin',\n",
              " 'Cherie_Blair',\n",
              " 'Cherry_Jones',\n",
              " 'Cheryl_Ford',\n",
              " 'Cheryl_Hines',\n",
              " 'Cheryl_James',\n",
              " 'Cheryl_Little',\n",
              " 'Cheryl_Tiegs',\n",
              " 'Chhouk_Rin',\n",
              " 'Chick_Hearn',\n",
              " 'Chin-Feng_Chen',\n",
              " 'Chin-Hui_Tsao',\n",
              " 'Chip_Burrus',\n",
              " 'Chip_Ganassi',\n",
              " 'Chip_Knight',\n",
              " 'Chistian_Stahl',\n",
              " 'Chita_Rivera',\n",
              " 'Chloe_Sevigny',\n",
              " 'Choi_Sung-hong',\n",
              " 'Choi_Yun-yong',\n",
              " 'Chok_Tong_Goh',\n",
              " 'Cho_Myung-kyun',\n",
              " 'Christiane_Wulff',\n",
              " 'Christian_Bale',\n",
              " 'Christian_Fittipaldi',\n",
              " 'Christian_Gimenez',\n",
              " 'Christian_Lacroix',\n",
              " 'Christian_Lirette',\n",
              " 'Christian_Longo',\n",
              " 'Christian_Malcolm',\n",
              " 'Christian_Olsson',\n",
              " 'Christian_Patino',\n",
              " 'Christian_Von_Wernich',\n",
              " 'Christian_Wulff',\n",
              " 'Christina_Aguilera',\n",
              " 'Christina_Sawaya',\n",
              " 'Christine_Arron',\n",
              " 'Christine_Baumgartner',\n",
              " 'Christine_Ebersole',\n",
              " 'Christine_Gregoire',\n",
              " 'Christine_Rau',\n",
              " 'Christine_Todd_Whitman',\n",
              " 'Christopher_Amolsch',\n",
              " 'Christopher_Conyers',\n",
              " 'Christopher_Matero',\n",
              " 'Christopher_Patten',\n",
              " 'Christopher_Reeve',\n",
              " 'Christopher_Russell',\n",
              " 'Christopher_Speer',\n",
              " 'Christopher_Walken',\n",
              " 'Christopher_Whittle',\n",
              " 'Christoph_Daum',\n",
              " 'Christy_Ferer',\n",
              " 'Christy_Turlington',\n",
              " 'Chris_Andrews',\n",
              " 'Chris_Bell',\n",
              " 'Chris_Byrd',\n",
              " 'Chris_Cirino',\n",
              " 'Chris_Claiborne',\n",
              " 'Chris_Columbus',\n",
              " 'Chris_Cookson',\n",
              " 'Chris_Cooper',\n",
              " 'Chris_Cornell',\n",
              " 'Chris_Crocker',\n",
              " 'Chris_Dodd',\n",
              " 'Chris_Forsyth',\n",
              " 'Chris_Gratton',\n",
              " 'Chris_Hernandez',\n",
              " 'Chris_Klein',\n",
              " 'Chris_Kolanas',\n",
              " 'Chris_Matthews',\n",
              " 'Chris_Moore',\n",
              " 'Chris_Neil',\n",
              " 'Chris_Noth',\n",
              " 'Chris_Penn',\n",
              " 'Chris_Pronger',\n",
              " 'Chris_Reitsma',\n",
              " 'Chris_Rock',\n",
              " 'Chris_Simon',\n",
              " 'Chris_Swecker',\n",
              " 'Chris_Terry',\n",
              " 'Chris_Thomas',\n",
              " 'Chris_Tucker',\n",
              " 'Chris_Whitney',\n",
              " 'Chuanyun_Li',\n",
              " 'Chuck_Amato',\n",
              " 'Chuck_Bednarik',\n",
              " 'Chuck_Eidson',\n",
              " 'Chuck_Finley',\n",
              " 'Chuck_Hagel',\n",
              " 'Chuck_Woolery',\n",
              " 'Chuck_Yeager',\n",
              " 'Chung_Mong-hun',\n",
              " 'Chung_Mong-joon',\n",
              " 'Chyung_Dai-chul',\n",
              " ...]"
            ]
          },
          "execution_count": 7,
          "metadata": {},
          "output_type": "execute_result"
        }
      ],
      "source": [
        "os.listdir('lfw')"
      ]
    },
    {
      "cell_type": "markdown",
      "metadata": {
        "id": "60plMNrvDo6D"
      },
      "source": [
        "## 2.2 Collect Positive and Anchor Classes"
      ]
    },
    {
      "cell_type": "code",
      "execution_count": null,
      "metadata": {
        "id": "52Kkq291Do6E"
      },
      "outputs": [],
      "source": [
        "# Import uuid library to generate universal unique image names\n",
        "import uuid"
      ]
    },
    {
      "cell_type": "code",
      "execution_count": null,
      "metadata": {
        "id": "SE10l95nDo6E",
        "outputId": "363d7bf3-0a4c-47ca-f60f-44348e0e0830"
      },
      "outputs": [
        {
          "data": {
            "text/plain": [
              "'data\\\\anchor\\\\4c9a28d7-1700-11ed-96b0-303a64e70dc3.jpg'"
            ]
          },
          "execution_count": 9,
          "metadata": {},
          "output_type": "execute_result"
        }
      ],
      "source": [
        "os.path.join(ANC_PATH, '{}.jpg'.format(uuid.uuid1()))"
      ]
    },
    {
      "cell_type": "code",
      "execution_count": null,
      "metadata": {
        "id": "fL5U6Av6Do6E"
      },
      "outputs": [],
      "source": [
        "# Establish a connection to the webcam [ a-- collect as anchor p-- collect as positive q--to break  ]\n",
        "cap = cv2.VideoCapture(0)\n",
        "while cap.isOpened(): \n",
        "    ret, frame = cap.read()\n",
        "   \n",
        "    # Cut down frame to 250x250px\n",
        "    frame = frame[120:120+250,200:200+250, :] \n",
        "    \n",
        "    # Collect anchors \n",
        "    if cv2.waitKey(1) & 0XFF == ord('a'):\n",
        "        # Create the unique file path \n",
        "        imgname = os.path.join(ANC_PATH, '{}.jpg'.format(uuid.uuid1()))\n",
        "        # Write out anchor image\n",
        "        cv2.imwrite(imgname, frame)\n",
        "    \n",
        "    # Collect positives\n",
        "    if cv2.waitKey(1) & 0XFF == ord('p'):\n",
        "        # Create the unique file path \n",
        "        imgname = os.path.join(POS_PATH, '{}.jpg'.format(uuid.uuid1()))\n",
        "        # Write out positive image\n",
        "        cv2.imwrite(imgname, frame)\n",
        "    \n",
        "    # Show image back to screen\n",
        "    cv2.imshow('Image Collection', frame)\n",
        "    \n",
        "    # Breaking gracefully\n",
        "    if cv2.waitKey(1) & 0XFF == ord('q'):\n",
        "        break\n",
        "        \n",
        "# Release the webcam\n",
        "cap.release()\n",
        "# Close the image show frame\n",
        "cv2.destroyAllWindows()"
      ]
    },
    {
      "cell_type": "code",
      "execution_count": null,
      "metadata": {
        "id": "clOr5-DODo6F",
        "outputId": "ec1cc818-bb86-4d47-aa5b-b34835e8d718"
      },
      "outputs": [
        {
          "data": {
            "text/plain": [
              "'data\\\\anchor'"
            ]
          },
          "execution_count": 11,
          "metadata": {},
          "output_type": "execute_result"
        }
      ],
      "source": [
        "ANC_PATH\n"
      ]
    },
    {
      "cell_type": "code",
      "execution_count": null,
      "metadata": {
        "id": "PMzKU27xDo6G",
        "outputId": "e0a7d966-f491-4e47-c2e0-e80496fd04de"
      },
      "outputs": [
        {
          "data": {
            "text/plain": [
              "array([[[0, 1, 1],\n",
              "        [0, 0, 0],\n",
              "        [0, 0, 0],\n",
              "        ...,\n",
              "        [1, 1, 1],\n",
              "        [0, 0, 0],\n",
              "        [0, 0, 0]],\n",
              "\n",
              "       [[0, 0, 0],\n",
              "        [0, 0, 0],\n",
              "        [0, 0, 0],\n",
              "        ...,\n",
              "        [0, 0, 0],\n",
              "        [0, 0, 0],\n",
              "        [0, 0, 0]],\n",
              "\n",
              "       [[0, 1, 1],\n",
              "        [0, 1, 1],\n",
              "        [0, 0, 0],\n",
              "        ...,\n",
              "        [0, 0, 0],\n",
              "        [0, 0, 0],\n",
              "        [0, 0, 0]],\n",
              "\n",
              "       ...,\n",
              "\n",
              "       [[0, 0, 2],\n",
              "        [0, 1, 4],\n",
              "        [0, 1, 6],\n",
              "        ...,\n",
              "        [0, 0, 1],\n",
              "        [0, 0, 2],\n",
              "        [0, 0, 4]],\n",
              "\n",
              "       [[0, 0, 2],\n",
              "        [0, 2, 5],\n",
              "        [0, 1, 6],\n",
              "        ...,\n",
              "        [0, 0, 0],\n",
              "        [2, 2, 2],\n",
              "        [0, 1, 2]],\n",
              "\n",
              "       [[0, 1, 3],\n",
              "        [0, 1, 3],\n",
              "        [0, 1, 3],\n",
              "        ...,\n",
              "        [0, 0, 0],\n",
              "        [0, 0, 0],\n",
              "        [0, 0, 0]]], dtype=uint8)"
            ]
          },
          "execution_count": 12,
          "metadata": {},
          "output_type": "execute_result"
        }
      ],
      "source": [
        "frame"
      ]
    },
    {
      "cell_type": "code",
      "execution_count": null,
      "metadata": {
        "id": "tich_FCwDo6G",
        "outputId": "6a5a9d7d-a221-4407-ced4-e70279976735"
      },
      "outputs": [
        {
          "data": {
            "text/plain": [
              "<matplotlib.image.AxesImage at 0x148bb545880>"
            ]
          },
          "execution_count": 13,
          "metadata": {},
          "output_type": "execute_result"
        },
        {
          "data": {
            "image/png": "[encoded data removed]",
            "text/plain": [
              "<Figure size 432x288 with 1 Axes>"
            ]
          },
          "metadata": {
            "needs_background": "light"
          },
          "output_type": "display_data"
        }
      ],
      "source": [
        "plt.imshow(frame)"
      ]
    },
    {
      "cell_type": "code",
      "execution_count": null,
      "metadata": {
        "id": "E6QrOXFJDo6H",
        "outputId": "a0e09d13-cbf4-425f-ff5d-3666607224a5"
      },
      "outputs": [
        {
          "data": {
            "text/plain": [
              "(250, 250, 3)"
            ]
          },
          "execution_count": 14,
          "metadata": {},
          "output_type": "execute_result"
        }
      ],
      "source": [
        "frame.shape"
      ]
    },
    {
      "cell_type": "markdown",
      "metadata": {
        "id": "3BiUMmt0Do6H"
      },
      "source": [
        "# 3. Load and Preprocess Images"
      ]
    },
    {
      "cell_type": "markdown",
      "metadata": {
        "id": "En25ETy9Do6H"
      },
      "source": [
        "## 3.1 Get Image Directories"
      ]
    },
    {
      "cell_type": "code",
      "execution_count": null,
      "metadata": {
        "id": "UubwfzmzDo6I"
      },
      "outputs": [],
      "source": [
        "anchor = tf.data.Dataset.list_files(str(ANC_PATH+'\\*.jpg')).take(300)\n",
        "positive = tf.data.Dataset.list_files(str(POS_PATH+'\\*.jpg')).take(300)\n",
        "negative = tf.data.Dataset.list_files(str(NEG_PATH+'\\*.jpg')).take(300)"
      ]
    },
    {
      "cell_type": "code",
      "execution_count": null,
      "metadata": {
        "id": "vAi31UIuDo6I",
        "outputId": "0f168a39-8c5c-400c-db0b-18b1ba96ac7a"
      },
      "outputs": [
        {
          "data": {
            "text/plain": [
              "'data\\\\anchor\\\\*.jpg'"
            ]
          },
          "execution_count": 16,
          "metadata": {},
          "output_type": "execute_result"
        }
      ],
      "source": [
        "ANC_PATH+'\\*.jpg'"
      ]
    },
    {
      "cell_type": "code",
      "execution_count": null,
      "metadata": {
        "id": "JcD18jBYDo6I"
      },
      "outputs": [],
      "source": [
        "dir_test = anchor.as_numpy_iterator()"
      ]
    },
    {
      "cell_type": "code",
      "execution_count": null,
      "metadata": {
        "id": "0IIOoRL_Do6I",
        "outputId": "54a42445-6cb4-403d-c118-c3390e0c10b6"
      },
      "outputs": [
        {
          "name": "stdout",
          "output_type": "stream",
          "text": [
            "b'data\\\\anchor\\\\3128b715-1436-11ed-870d-8cdcd48f41eb.jpg'\n"
          ]
        }
      ],
      "source": [
        "print(next(dir_test))"
      ]
    },
    {
      "cell_type": "markdown",
      "metadata": {
        "id": "v4d32OV6Do6J"
      },
      "source": [
        "## 3.2 Preprocessing - Scale and Resize"
      ]
    },
    {
      "cell_type": "code",
      "execution_count": null,
      "metadata": {
        "id": "YY0glIU7Do6J"
      },
      "outputs": [],
      "source": [
        "def preprocess(file_path):\n",
        "    \n",
        "    # Read in image from file path\n",
        "    byte_img = tf.io.read_file(file_path)\n",
        "    # Load in the image \n",
        "    img = tf.io.decode_jpeg(byte_img)\n",
        "    \n",
        "    # Preprocessing steps - resizing the image to be 100x100x3\n",
        "    img = tf.image.resize(img, (100,100))\n",
        "    # Scale image to be between 0 and 1 \n",
        "    img = img / 255.0\n",
        "\n",
        "    # Return image\n",
        "    return img"
      ]
    },
    {
      "cell_type": "code",
      "execution_count": null,
      "metadata": {
        "scrolled": true,
        "tags": [],
        "id": "3xFF9w8UDo6J"
      },
      "outputs": [],
      "source": [
        "img = preprocess(b'data\\\\anchor\\\\2d1f7c49-1436-11ed-bad0-8cdcd48f41eb.jpg')"
      ]
    },
    {
      "cell_type": "code",
      "execution_count": null,
      "metadata": {
        "id": "sS3tB6nmDo6K",
        "outputId": "9cf96d20-f435-488e-f094-8fbd03bdf8d8"
      },
      "outputs": [
        {
          "data": {
            "text/plain": [
              "0.8394608"
            ]
          },
          "execution_count": 21,
          "metadata": {},
          "output_type": "execute_result"
        }
      ],
      "source": [
        "img.numpy().max() "
      ]
    },
    {
      "cell_type": "code",
      "execution_count": null,
      "metadata": {
        "id": "UTksG31UDo6K",
        "outputId": "aaae6ad3-1dc8-4944-8be9-9d3a9167a03d"
      },
      "outputs": [
        {
          "data": {
            "text/plain": [
              "<matplotlib.image.AxesImage at 0x149618604f0>"
            ]
          },
          "execution_count": 97,
          "metadata": {},
          "output_type": "execute_result"
        },
        {
          "data": {
            "image/png": "[encoded data removed]",
            "text/plain": [
              "<Figure size 432x288 with 1 Axes>"
            ]
          },
          "metadata": {
            "needs_background": "light"
          },
          "output_type": "display_data"
        }
      ],
      "source": [
        "plt.imshow(img)"
      ]
    },
    {
      "cell_type": "markdown",
      "metadata": {
        "id": "EFsB9eb1Do6K"
      },
      "source": [
        "## 3.3 Create Labelled Dataset"
      ]
    },
    {
      "cell_type": "code",
      "execution_count": null,
      "metadata": {
        "id": "C_itH3JtDo6L"
      },
      "outputs": [],
      "source": [
        "# (anchor, positive) => 1,1,1,1,1\n",
        "# (anchor, negative) => 0,0,0,0,0"
      ]
    },
    {
      "cell_type": "code",
      "execution_count": null,
      "metadata": {
        "id": "KwRaDaneDo6L"
      },
      "outputs": [],
      "source": [
        "positives = tf.data.Dataset.zip((anchor, positive, tf.data.Dataset.from_tensor_slices(tf.ones(len(anchor)))))\n",
        "negatives = tf.data.Dataset.zip((anchor, negative, tf.data.Dataset.from_tensor_slices(tf.zeros(len(anchor)))))\n",
        "data = positives.concatenate(negatives)"
      ]
    },
    {
      "cell_type": "code",
      "execution_count": null,
      "metadata": {
        "id": "XgcaZAxwDo6L"
      },
      "outputs": [],
      "source": [
        "samples = data.as_numpy_iterator()"
      ]
    },
    {
      "cell_type": "code",
      "execution_count": null,
      "metadata": {
        "id": "wYCVwlDtDo6L"
      },
      "outputs": [],
      "source": [
        "exampple = samples.next()"
      ]
    },
    {
      "cell_type": "code",
      "execution_count": null,
      "metadata": {
        "tags": [],
        "id": "sT1vyMDdDo6M",
        "outputId": "21757cbb-487d-4142-db9a-a130541db0d6"
      },
      "outputs": [
        {
          "data": {
            "text/plain": [
              "(b'data\\\\anchor\\\\bc1ca354-1435-11ed-b879-8cdcd48f41eb.jpg',\n",
              " b'data\\\\positive\\\\aeaa8336-1436-11ed-bc75-8cdcd48f41eb.jpg',\n",
              " 1.0)"
            ]
          },
          "execution_count": 27,
          "metadata": {},
          "output_type": "execute_result"
        }
      ],
      "source": [
        "exampple"
      ]
    },
    {
      "cell_type": "markdown",
      "metadata": {
        "id": "rm6efKt1Do6M"
      },
      "source": [
        "## 3.4 Build Train and Test Partition"
      ]
    },
    {
      "cell_type": "code",
      "execution_count": null,
      "metadata": {
        "id": "Vz8kj0AlDo6M"
      },
      "outputs": [],
      "source": [
        "def preprocess_twin(input_img, validation_img, label):\n",
        "    return(preprocess(input_img), preprocess(validation_img), label) "
      ]
    },
    {
      "cell_type": "code",
      "execution_count": null,
      "metadata": {
        "id": "9wElyuNIDo6M"
      },
      "outputs": [],
      "source": [
        "res = preprocess_twin(*exampple)"
      ]
    },
    {
      "cell_type": "code",
      "execution_count": null,
      "metadata": {
        "id": "M4l5YbVnDo6N",
        "outputId": "48c8e939-7cc0-4262-ed69-0b77d1e4448d"
      },
      "outputs": [
        {
          "data": {
            "text/plain": [
              "<matplotlib.image.AxesImage at 0x148c07b66d0>"
            ]
          },
          "execution_count": 30,
          "metadata": {},
          "output_type": "execute_result"
        },
        {
          "data": {
            "image/png": "[encoded data removed]",
            "text/plain": [
              "<Figure size 432x288 with 1 Axes>"
            ]
          },
          "metadata": {
            "needs_background": "light"
          },
          "output_type": "display_data"
        }
      ],
      "source": [
        "plt.imshow(res[1])"
      ]
    },
    {
      "cell_type": "code",
      "execution_count": null,
      "metadata": {
        "id": "_-i92X1QDo6N",
        "outputId": "b6c22520-f635-4e65-b670-3fe36be4334f"
      },
      "outputs": [
        {
          "data": {
            "text/plain": [
              "1.0"
            ]
          },
          "execution_count": 31,
          "metadata": {},
          "output_type": "execute_result"
        }
      ],
      "source": [
        "res[2]"
      ]
    },
    {
      "cell_type": "code",
      "execution_count": null,
      "metadata": {
        "id": "HGqW4ewGDo6N"
      },
      "outputs": [],
      "source": [
        "# Build dataloader pipeline\n",
        "data = data.map(preprocess_twin)\n",
        "data = data.cache()\n",
        "data = data.shuffle(buffer_size=1024)"
      ]
    },
    {
      "cell_type": "code",
      "execution_count": null,
      "metadata": {
        "id": "LUHklUj2Do6O"
      },
      "outputs": [],
      "source": [
        "# Training partition\n",
        "train_data = data.take(round(len(data)*.7))\n",
        "train_data = train_data.batch(16)\n",
        "train_data = train_data.prefetch(8)"
      ]
    },
    {
      "cell_type": "code",
      "execution_count": null,
      "metadata": {
        "id": "dbvk3PkJDo6O"
      },
      "outputs": [],
      "source": [
        "# Testing partition\n",
        "test_data = data.skip(round(len(data)*.7))\n",
        "test_data = test_data.take(round(len(data)*.3))\n",
        "test_data = test_data.batch(16)\n",
        "test_data = test_data.prefetch(8)"
      ]
    },
    {
      "cell_type": "markdown",
      "metadata": {
        "id": "y_2fblkeDo6O"
      },
      "source": [
        "# 4. Model Engineering"
      ]
    },
    {
      "cell_type": "markdown",
      "metadata": {
        "id": "0BJq4qYxDo6O"
      },
      "source": [
        "## 4.1 Build Embedding Layer"
      ]
    },
    {
      "cell_type": "code",
      "execution_count": null,
      "metadata": {
        "id": "JPOIOfW5Do6O"
      },
      "outputs": [],
      "source": [
        "inp = Input(shape=(100,100,3), name='input_image')"
      ]
    },
    {
      "cell_type": "code",
      "execution_count": null,
      "metadata": {
        "id": "onBRoV7cDo6P"
      },
      "outputs": [],
      "source": [
        "c1 = Conv2D(64, (10,10), activation='relu')(inp)"
      ]
    },
    {
      "cell_type": "code",
      "execution_count": null,
      "metadata": {
        "id": "LcuK2EX4Do6P"
      },
      "outputs": [],
      "source": [
        "m1 = MaxPooling2D(64, (2,2), padding='same')(c1)"
      ]
    },
    {
      "cell_type": "code",
      "execution_count": null,
      "metadata": {
        "id": "j_Ppd86mDo6P"
      },
      "outputs": [],
      "source": [
        "c2 = Conv2D(128, (7,7), activation='relu')(m1)\n",
        "m2 = MaxPooling2D(64, (2,2), padding='same')(c2)"
      ]
    },
    {
      "cell_type": "code",
      "execution_count": null,
      "metadata": {
        "id": "6-aIxqxmDo6P"
      },
      "outputs": [],
      "source": [
        "c3 = Conv2D(128, (4,4), activation='relu')(m2)\n",
        "m3 = MaxPooling2D(64, (2,2), padding='same')(c3)"
      ]
    },
    {
      "cell_type": "code",
      "execution_count": null,
      "metadata": {
        "id": "TdAY4W7tDo6P"
      },
      "outputs": [],
      "source": [
        "c4 = Conv2D(256, (4,4), activation='relu')(m3)\n",
        "f1 = Flatten()(c4)\n",
        "d1 = Dense(4096, activation='sigmoid')(f1)"
      ]
    },
    {
      "cell_type": "code",
      "execution_count": null,
      "metadata": {
        "id": "6ulCeYuQDo6Q"
      },
      "outputs": [],
      "source": [
        "mod = Model(inputs=[inp], outputs=[d1], name='embedding')"
      ]
    },
    {
      "cell_type": "code",
      "execution_count": null,
      "metadata": {
        "id": "T_QzshXXDo6Q",
        "outputId": "b9be8c2b-36bb-4df3-fda6-067fc1672683"
      },
      "outputs": [
        {
          "name": "stdout",
          "output_type": "stream",
          "text": [
            "Model: \"embedding\"\n",
            "_________________________________________________________________\n",
            "Layer (type)                 Output Shape              Param #   \n",
            "=================================================================\n",
            "input_image (InputLayer)     [(None, 100, 100, 3)]     0         \n",
            "_________________________________________________________________\n",
            "conv2d (Conv2D)              (None, 91, 91, 64)        19264     \n",
            "_________________________________________________________________\n",
            "max_pooling2d (MaxPooling2D) (None, 46, 46, 64)        0         \n",
            "_________________________________________________________________\n",
            "conv2d_1 (Conv2D)            (None, 40, 40, 128)       401536    \n",
            "_________________________________________________________________\n",
            "max_pooling2d_1 (MaxPooling2 (None, 20, 20, 128)       0         \n",
            "_________________________________________________________________\n",
            "conv2d_2 (Conv2D)            (None, 17, 17, 128)       262272    \n",
            "_________________________________________________________________\n",
            "max_pooling2d_2 (MaxPooling2 (None, 9, 9, 128)         0         \n",
            "_________________________________________________________________\n",
            "conv2d_3 (Conv2D)            (None, 6, 6, 256)         524544    \n",
            "_________________________________________________________________\n",
            "flatten (Flatten)            (None, 9216)              0         \n",
            "_________________________________________________________________\n",
            "dense (Dense)                (None, 4096)              37752832  \n",
            "=================================================================\n",
            "Total params: 38,960,448\n",
            "Trainable params: 38,960,448\n",
            "Non-trainable params: 0\n",
            "_________________________________________________________________\n"
          ]
        }
      ],
      "source": [
        "mod.summary()"
      ]
    },
    {
      "cell_type": "code",
      "execution_count": null,
      "metadata": {
        "id": "prBG7lf3Do6Q"
      },
      "outputs": [],
      "source": [
        "def make_embedding(): \n",
        "    inp = Input(shape=(100,100,3), name='input_image')\n",
        "    \n",
        "    # First block\n",
        "    c1 = Conv2D(64, (10,10), activation='relu')(inp)\n",
        "    m1 = MaxPooling2D(64, (2,2), padding='same')(c1)\n",
        "    \n",
        "    # Second block\n",
        "    c2 = Conv2D(128, (7,7), activation='relu')(m1)\n",
        "    m2 = MaxPooling2D(64, (2,2), padding='same')(c2)\n",
        "    \n",
        "    # Third block \n",
        "    c3 = Conv2D(128, (4,4), activation='relu')(m2)\n",
        "    m3 = MaxPooling2D(64, (2,2), padding='same')(c3)\n",
        "    \n",
        "    # Final embedding block\n",
        "    c4 = Conv2D(256, (4,4), activation='relu')(m3)\n",
        "    f1 = Flatten()(c4)\n",
        "    d1 = Dense(4096, activation='sigmoid')(f1)\n",
        "    \n",
        "    \n",
        "    return Model(inputs=[inp], outputs=[d1], name='embedding')"
      ]
    },
    {
      "cell_type": "code",
      "execution_count": null,
      "metadata": {
        "id": "gs3oPvkyDo6Q"
      },
      "outputs": [],
      "source": [
        "embedding = make_embedding()"
      ]
    },
    {
      "cell_type": "code",
      "execution_count": null,
      "metadata": {
        "id": "1_Or4t7IDo6R",
        "outputId": "fbb09d39-e454-49c3-d1d9-8cba96d10203"
      },
      "outputs": [
        {
          "name": "stdout",
          "output_type": "stream",
          "text": [
            "Model: \"embedding\"\n",
            "_________________________________________________________________\n",
            "Layer (type)                 Output Shape              Param #   \n",
            "=================================================================\n",
            "input_image (InputLayer)     [(None, 100, 100, 3)]     0         \n",
            "_________________________________________________________________\n",
            "conv2d_4 (Conv2D)            (None, 91, 91, 64)        19264     \n",
            "_________________________________________________________________\n",
            "max_pooling2d_3 (MaxPooling2 (None, 46, 46, 64)        0         \n",
            "_________________________________________________________________\n",
            "conv2d_5 (Conv2D)            (None, 40, 40, 128)       401536    \n",
            "_________________________________________________________________\n",
            "max_pooling2d_4 (MaxPooling2 (None, 20, 20, 128)       0         \n",
            "_________________________________________________________________\n",
            "conv2d_6 (Conv2D)            (None, 17, 17, 128)       262272    \n",
            "_________________________________________________________________\n",
            "max_pooling2d_5 (MaxPooling2 (None, 9, 9, 128)         0         \n",
            "_________________________________________________________________\n",
            "conv2d_7 (Conv2D)            (None, 6, 6, 256)         524544    \n",
            "_________________________________________________________________\n",
            "flatten_1 (Flatten)          (None, 9216)              0         \n",
            "_________________________________________________________________\n",
            "dense_1 (Dense)              (None, 4096)              37752832  \n",
            "=================================================================\n",
            "Total params: 38,960,448\n",
            "Trainable params: 38,960,448\n",
            "Non-trainable params: 0\n",
            "_________________________________________________________________\n"
          ]
        }
      ],
      "source": [
        "embedding.summary()"
      ]
    },
    {
      "cell_type": "markdown",
      "metadata": {
        "id": "eJx3pH26Do6R"
      },
      "source": [
        "## 4.2 Build Distance Layer"
      ]
    },
    {
      "cell_type": "code",
      "execution_count": null,
      "metadata": {
        "id": "BHdUcLEqDo6R"
      },
      "outputs": [],
      "source": [
        "# Siamese L1 Distance class\n",
        "class L1Dist(Layer):\n",
        "    \n",
        "    # Init method - inheritance\n",
        "    def __init__(self, **kwargs):\n",
        "        super().__init__()\n",
        "       \n",
        "    # Magic happens here - similarity calculation\n",
        "    def call(self, input_embedding, validation_embedding):\n",
        "        return tf.math.abs(input_embedding - validation_embedding)"
      ]
    },
    {
      "cell_type": "code",
      "execution_count": null,
      "metadata": {
        "id": "ky3EaschDo6S"
      },
      "outputs": [],
      "source": [
        "l1 = L1Dist()"
      ]
    },
    {
      "cell_type": "code",
      "execution_count": null,
      "metadata": {
        "tags": [],
        "id": "xzT9SwA7Do6T",
        "outputId": "92a2971a-5e5a-4de7-c536-6e78522c34c0"
      },
      "outputs": [
        {
          "ename": "NameError",
          "evalue": "name 'anchor_embedding' is not defined",
          "output_type": "error",
          "traceback": [
            "\u001b[1;31m---------------------------------------------------------------------------\u001b[0m",
            "\u001b[1;31mNameError\u001b[0m                                 Traceback (most recent call last)",
            "\u001b[1;32m<ipython-input-99-48b6f0b2098a>\u001b[0m in \u001b[0;36m<module>\u001b[1;34m\u001b[0m\n\u001b[1;32m----> 1\u001b[1;33m \u001b[0ml1\u001b[0m\u001b[1;33m(\u001b[0m\u001b[0manchor_embedding\u001b[0m\u001b[1;33m,\u001b[0m \u001b[0mvalidation_embedding\u001b[0m\u001b[1;33m)\u001b[0m\u001b[1;33m\u001b[0m\u001b[1;33m\u001b[0m\u001b[0m\n\u001b[0m",
            "\u001b[1;31mNameError\u001b[0m: name 'anchor_embedding' is not defined"
          ]
        }
      ],
      "source": [
        "l1(anchor_embedding, validation_embedding)"
      ]
    },
    {
      "cell_type": "markdown",
      "metadata": {
        "id": "b9NBwUlUDo6T"
      },
      "source": [
        "## 4.3 Make Siamese Model"
      ]
    },
    {
      "cell_type": "code",
      "execution_count": null,
      "metadata": {
        "id": "MIvARF1VDo6U"
      },
      "outputs": [],
      "source": [
        "input_image = Input(name='input_img', shape=(100,100,3))\n",
        "validation_image = Input(name='validation_img', shape=(100,100,3))"
      ]
    },
    {
      "cell_type": "code",
      "execution_count": null,
      "metadata": {
        "id": "AtU4oY3IDo6U"
      },
      "outputs": [],
      "source": [
        "inp_embedding = embedding(input_image)\n",
        "val_embedding = embedding(validation_image)"
      ]
    },
    {
      "cell_type": "code",
      "execution_count": null,
      "metadata": {
        "id": "uunWw9sTDo6U"
      },
      "outputs": [],
      "source": [
        "siamese_layer = L1Dist()"
      ]
    },
    {
      "cell_type": "code",
      "execution_count": null,
      "metadata": {
        "id": "Fb0O6WAUDo6U"
      },
      "outputs": [],
      "source": [
        "distances = siamese_layer(inp_embedding, val_embedding)"
      ]
    },
    {
      "cell_type": "code",
      "execution_count": null,
      "metadata": {
        "id": "Yor-XCG2Do6V"
      },
      "outputs": [],
      "source": [
        "classifier = Dense(1, activation='sigmoid')(distances)"
      ]
    },
    {
      "cell_type": "code",
      "execution_count": null,
      "metadata": {
        "id": "g5A5j6z9Do6V",
        "outputId": "f6931ccc-8108-46aa-fd3c-73d0111aa854"
      },
      "outputs": [
        {
          "data": {
            "text/plain": [
              "<KerasTensor: shape=(None, 1) dtype=float32 (created by layer 'dense_2')>"
            ]
          },
          "execution_count": 54,
          "metadata": {},
          "output_type": "execute_result"
        }
      ],
      "source": [
        "classifier"
      ]
    },
    {
      "cell_type": "code",
      "execution_count": null,
      "metadata": {
        "id": "SaJ2-L-4Do6V"
      },
      "outputs": [],
      "source": [
        "siamese_network = Model(inputs=[input_image, validation_image], outputs=classifier, name='SiameseNetwork')"
      ]
    },
    {
      "cell_type": "code",
      "execution_count": null,
      "metadata": {
        "id": "n7NN7RfdDo6V",
        "outputId": "848f9fc2-24a7-402f-d503-e9d785838eb6"
      },
      "outputs": [
        {
          "name": "stdout",
          "output_type": "stream",
          "text": [
            "Model: \"SiameseNetwork\"\n",
            "__________________________________________________________________________________________________\n",
            "Layer (type)                    Output Shape         Param #     Connected to                     \n",
            "==================================================================================================\n",
            "input_img (InputLayer)          [(None, 100, 100, 3) 0                                            \n",
            "__________________________________________________________________________________________________\n",
            "validation_img (InputLayer)     [(None, 100, 100, 3) 0                                            \n",
            "__________________________________________________________________________________________________\n",
            "embedding (Functional)          (None, 4096)         38960448    input_img[0][0]                  \n",
            "                                                                 validation_img[0][0]             \n",
            "__________________________________________________________________________________________________\n",
            "l1_dist_1 (L1Dist)              (None, 4096)         0           embedding[0][0]                  \n",
            "                                                                 embedding[1][0]                  \n",
            "__________________________________________________________________________________________________\n",
            "dense_2 (Dense)                 (None, 1)            4097        l1_dist_1[0][0]                  \n",
            "==================================================================================================\n",
            "Total params: 38,964,545\n",
            "Trainable params: 38,964,545\n",
            "Non-trainable params: 0\n",
            "__________________________________________________________________________________________________\n"
          ]
        }
      ],
      "source": [
        "siamese_network.summary()"
      ]
    },
    {
      "cell_type": "code",
      "execution_count": null,
      "metadata": {
        "id": "D8-2R7NiDo6W"
      },
      "outputs": [],
      "source": [
        "def make_siamese_model(): \n",
        "    \n",
        "    # Anchor image input in the network\n",
        "    input_image = Input(name='input_img', shape=(100,100,3))\n",
        "    \n",
        "    # Validation image in the network \n",
        "    validation_image = Input(name='validation_img', shape=(100,100,3))\n",
        "    \n",
        "    # Combine siamese distance components\n",
        "    siamese_layer = L1Dist()\n",
        "    siamese_layer._name = 'distance'\n",
        "    distances = siamese_layer(embedding(input_image), embedding(validation_image))\n",
        "    \n",
        "    # Classification layer \n",
        "    classifier = Dense(1, activation='sigmoid')(distances)\n",
        "    \n",
        "    return Model(inputs=[input_image, validation_image], outputs=classifier, name='SiameseNetwork')"
      ]
    },
    {
      "cell_type": "code",
      "execution_count": null,
      "metadata": {
        "id": "lPHnEQaFDo6W"
      },
      "outputs": [],
      "source": [
        "siamese_model = make_siamese_model()"
      ]
    },
    {
      "cell_type": "code",
      "execution_count": null,
      "metadata": {
        "tags": [],
        "id": "ownnfkwKDo6W",
        "outputId": "bbe69e86-5919-4fdc-e953-3a0d8c3faf56"
      },
      "outputs": [
        {
          "name": "stdout",
          "output_type": "stream",
          "text": [
            "Model: \"SiameseNetwork\"\n",
            "__________________________________________________________________________________________________\n",
            "Layer (type)                    Output Shape         Param #     Connected to                     \n",
            "==================================================================================================\n",
            "input_img (InputLayer)          [(None, 100, 100, 3) 0                                            \n",
            "__________________________________________________________________________________________________\n",
            "validation_img (InputLayer)     [(None, 100, 100, 3) 0                                            \n",
            "__________________________________________________________________________________________________\n",
            "embedding (Functional)          (None, 4096)         38960448    input_img[0][0]                  \n",
            "                                                                 validation_img[0][0]             \n",
            "__________________________________________________________________________________________________\n",
            "distance (L1Dist)               (None, 4096)         0           embedding[2][0]                  \n",
            "                                                                 embedding[3][0]                  \n",
            "__________________________________________________________________________________________________\n",
            "dense_3 (Dense)                 (None, 1)            4097        distance[0][0]                   \n",
            "==================================================================================================\n",
            "Total params: 38,964,545\n",
            "Trainable params: 38,964,545\n",
            "Non-trainable params: 0\n",
            "__________________________________________________________________________________________________\n"
          ]
        }
      ],
      "source": [
        "siamese_model.summary()"
      ]
    },
    {
      "cell_type": "markdown",
      "metadata": {
        "id": "MFFuFbQ3Do6W"
      },
      "source": [
        "# 5. Training"
      ]
    },
    {
      "cell_type": "markdown",
      "metadata": {
        "id": "QiufYHBSDo6X"
      },
      "source": [
        "## 5.1 Setup Loss and Optimizer"
      ]
    },
    {
      "cell_type": "code",
      "execution_count": null,
      "metadata": {
        "id": "JnjynDZBDo6X"
      },
      "outputs": [],
      "source": [
        "binary_cross_loss = tf.losses.BinaryCrossentropy()"
      ]
    },
    {
      "cell_type": "code",
      "execution_count": null,
      "metadata": {
        "id": "DUfMNrr1Do6X"
      },
      "outputs": [],
      "source": [
        "opt = tf.keras.optimizers.Adam(1e-4) # 0.0001"
      ]
    },
    {
      "cell_type": "markdown",
      "metadata": {
        "id": "ZWZUIoqpDo6X"
      },
      "source": [
        "## 5.2 Establish Checkpoints"
      ]
    },
    {
      "cell_type": "code",
      "execution_count": null,
      "metadata": {
        "id": "l5ga9X7zDo6Y"
      },
      "outputs": [],
      "source": [
        "checkpoint_dir = './training_checkpoints'\n",
        "checkpoint_prefix = os.path.join(checkpoint_dir, 'ckpt')\n",
        "checkpoint = tf.train.Checkpoint(opt=opt, siamese_model=siamese_model)"
      ]
    },
    {
      "cell_type": "markdown",
      "metadata": {
        "id": "QmoNygBBDo6Y"
      },
      "source": [
        "## 5.3 Build Train Step Function"
      ]
    },
    {
      "cell_type": "code",
      "execution_count": null,
      "metadata": {
        "id": "n2uGcsO4Do6Y"
      },
      "outputs": [],
      "source": [
        "test_batch = train_data.as_numpy_iterator()"
      ]
    },
    {
      "cell_type": "code",
      "execution_count": null,
      "metadata": {
        "id": "XcGAajjrDo6Y"
      },
      "outputs": [],
      "source": [
        "batch_1 = test_batch.next()"
      ]
    },
    {
      "cell_type": "code",
      "execution_count": null,
      "metadata": {
        "id": "kEbKa_5gDo6Y"
      },
      "outputs": [],
      "source": [
        "X = batch_1[:2]"
      ]
    },
    {
      "cell_type": "code",
      "execution_count": null,
      "metadata": {
        "id": "zXokYCXzDo6Z"
      },
      "outputs": [],
      "source": [
        "y = batch_1[2]"
      ]
    },
    {
      "cell_type": "code",
      "execution_count": null,
      "metadata": {
        "id": "PX9fTsTWDo6Z",
        "outputId": "469959c5-f8b2-4881-b0c0-779ece51972a"
      },
      "outputs": [
        {
          "data": {
            "text/plain": [
              "array([1., 0., 0., 0., 0., 0., 1., 0., 1., 1., 0., 0., 1., 1., 1., 1.],\n",
              "      dtype=float32)"
            ]
          },
          "execution_count": 67,
          "metadata": {},
          "output_type": "execute_result"
        }
      ],
      "source": [
        "y"
      ]
    },
    {
      "cell_type": "code",
      "execution_count": null,
      "metadata": {
        "tags": [],
        "id": "N54FJRNfDo6Z"
      },
      "outputs": [],
      "source": [
        "@tf.function\n",
        "def train_step(batch):\n",
        "    \n",
        "    # Record all of our operations \n",
        "    with tf.GradientTape() as tape:     \n",
        "        # Get anchor and positive/negative image\n",
        "        X = batch[:2]\n",
        "        # Get label\n",
        "        y = batch[2]\n",
        "        \n",
        "        # Forward pass\n",
        "        yhat = siamese_model(X, training=True)\n",
        "        # Calculate loss\n",
        "        loss = binary_cross_loss(y, yhat)\n",
        "    print(loss)\n",
        "        \n",
        "    # Calculate gradients\n",
        "    grad = tape.gradient(loss, siamese_model.trainable_variables)\n",
        "    \n",
        "    # Calculate updated weights and apply to siamese model\n",
        "    opt.apply_gradients(zip(grad, siamese_model.trainable_variables))\n",
        "        \n",
        "    # Return loss\n",
        "    return loss"
      ]
    },
    {
      "cell_type": "markdown",
      "metadata": {
        "id": "sCYSKg-0Do6a"
      },
      "source": [
        "## 5.4 Build Training Loop"
      ]
    },
    {
      "cell_type": "code",
      "execution_count": null,
      "metadata": {
        "id": "6wUawe0tDo6a"
      },
      "outputs": [],
      "source": [
        "# Import metric calculations\n",
        "from tensorflow.keras.metrics import Precision, Recall"
      ]
    },
    {
      "cell_type": "code",
      "execution_count": null,
      "metadata": {
        "id": "uxvjahOPDo6b"
      },
      "outputs": [],
      "source": [
        "def train(data, EPOCHS):\n",
        "    # Loop through epochs\n",
        "    for epoch in range(1, EPOCHS+1):\n",
        "        print('\\n Epoch {}/{}'.format(epoch, EPOCHS))\n",
        "        progbar = tf.keras.utils.Progbar(len(data))\n",
        "        \n",
        "        # Creating a metric object \n",
        "        r = Recall()\n",
        "        p = Precision()\n",
        "        \n",
        "        # Loop through each batch\n",
        "        for idx, batch in enumerate(data):\n",
        "            # Run train step here\n",
        "            loss = train_step(batch)\n",
        "            yhat = siamese_model.predict(batch[:2])\n",
        "            r.update_state(batch[2], yhat)\n",
        "            p.update_state(batch[2], yhat) \n",
        "            progbar.update(idx+1)\n",
        "        print(loss.numpy(), r.result().numpy(), p.result().numpy())\n",
        "        \n",
        "        # Save checkpoints\n",
        "        if epoch % 10 == 0: \n",
        "            checkpoint.save(file_prefix=checkpoint_prefix)"
      ]
    },
    {
      "cell_type": "markdown",
      "metadata": {
        "id": "zNI0Qxy5Do6b"
      },
      "source": [
        "## 5.5 Train the model"
      ]
    },
    {
      "cell_type": "code",
      "execution_count": null,
      "metadata": {
        "id": "5m6ECPfLDo6b"
      },
      "outputs": [],
      "source": [
        "EPOCHS = 10"
      ]
    },
    {
      "cell_type": "code",
      "execution_count": null,
      "metadata": {
        "scrolled": true,
        "tags": [],
        "id": "V_bIQHGYDo6b",
        "outputId": "e71291b4-24a3-4707-89ad-1b91c4f7024a"
      },
      "outputs": [
        {
          "name": "stdout",
          "output_type": "stream",
          "text": [
            "\n",
            " Epoch 1/10\n",
            "Tensor(\"binary_crossentropy/weighted_loss/value:0\", shape=(), dtype=float32)\n",
            "Tensor(\"binary_crossentropy/weighted_loss/value:0\", shape=(), dtype=float32)\n",
            "26/27 [===========================>..] - ETA: 3sTensor(\"binary_crossentropy/weighted_loss/value:0\", shape=(), dtype=float32)\n",
            "27/27 [==============================] - 109s 4s/step\n",
            "0.21864784 0.1884058 0.975\n",
            "\n",
            " Epoch 2/10\n",
            "27/27 [==============================] - 98s 4s/step\n",
            "0.31150073 0.59907836 1.0\n",
            "\n",
            " Epoch 3/10\n",
            "27/27 [==============================] - 99s 4s/step\n",
            "0.4261044 0.977169 1.0\n",
            "\n",
            " Epoch 4/10\n",
            "27/27 [==============================] - 99s 4s/step\n",
            "0.22922501 0.69082123 1.0\n",
            "\n",
            " Epoch 5/10\n",
            "27/27 [==============================] - 98s 4s/step\n",
            "0.07462412 0.93203884 0.9896907\n",
            "\n",
            " Epoch 6/10\n",
            "27/27 [==============================] - 98s 4s/step\n",
            "0.15241404 0.9804878 1.0\n",
            "\n",
            " Epoch 7/10\n",
            "27/27 [==============================] - 98s 4s/step\n",
            "1.2532115e-05 0.99019605 1.0\n",
            "\n",
            " Epoch 8/10\n",
            "27/27 [==============================] - 97s 4s/step\n",
            "0.009503142 0.975 0.9798995\n",
            "\n",
            " Epoch 9/10\n",
            "27/27 [==============================] - 97s 4s/step\n",
            "0.00033704654 0.9953052 1.0\n",
            "\n",
            " Epoch 10/10\n",
            "27/27 [==============================] - 98s 4s/step\n",
            "0.00055525976 0.995283 1.0\n"
          ]
        }
      ],
      "source": [
        "train(train_data, EPOCHS)"
      ]
    },
    {
      "cell_type": "markdown",
      "metadata": {
        "tags": [],
        "id": "xHjnotG4Do6c"
      },
      "source": [
        "# 6. Evaluate Model"
      ]
    },
    {
      "cell_type": "markdown",
      "metadata": {
        "id": "Khe6XsbNDo6c"
      },
      "source": [
        "## 6.1 Import Metrics"
      ]
    },
    {
      "cell_type": "code",
      "execution_count": null,
      "metadata": {
        "id": "joWki9fpDo6c"
      },
      "outputs": [],
      "source": [
        "# Import metric calculations\n",
        "from tensorflow.keras.metrics import Precision, Recall"
      ]
    },
    {
      "cell_type": "markdown",
      "metadata": {
        "id": "1BUzIWQTDo6c"
      },
      "source": [
        "## 6.2 Make Predictions"
      ]
    },
    {
      "cell_type": "code",
      "execution_count": null,
      "metadata": {
        "id": "cVSD-FtyDo6d"
      },
      "outputs": [],
      "source": [
        "# Get a batch of test data\n",
        "test_input, test_val, y_true = test_data.as_numpy_iterator().next()"
      ]
    },
    {
      "cell_type": "code",
      "execution_count": null,
      "metadata": {
        "tags": [],
        "id": "wfbCsbeqDo6d"
      },
      "outputs": [],
      "source": [
        "y_hat = siamese_model.predict([test_input, test_val])"
      ]
    },
    {
      "cell_type": "code",
      "execution_count": null,
      "metadata": {
        "tags": [],
        "id": "4k5QUe3xDo6e",
        "outputId": "0fb0272f-cbb7-41a1-b506-34c671e53d3d"
      },
      "outputs": [
        {
          "data": {
            "text/plain": [
              "[1, 0, 1, 0, 1, 1, 1, 1, 0, 0, 1, 0, 0, 1, 0, 1]"
            ]
          },
          "execution_count": 76,
          "metadata": {},
          "output_type": "execute_result"
        }
      ],
      "source": [
        "# Post processing the results \n",
        "[1 if prediction > 0.5 else 0 for prediction in y_hat ]"
      ]
    },
    {
      "cell_type": "code",
      "execution_count": null,
      "metadata": {
        "tags": [],
        "id": "8ypMn9BRDo6f",
        "outputId": "33d93fdc-b851-4ad6-99ab-c7e4f2fc851b"
      },
      "outputs": [
        {
          "data": {
            "text/plain": [
              "array([1., 0., 1., 0., 1., 1., 1., 1., 0., 0., 1., 0., 0., 1., 0., 1.],\n",
              "      dtype=float32)"
            ]
          },
          "execution_count": 77,
          "metadata": {},
          "output_type": "execute_result"
        }
      ],
      "source": [
        "y_true"
      ]
    },
    {
      "cell_type": "markdown",
      "metadata": {
        "id": "j9kYJgGSDo6f"
      },
      "source": [
        "## 6.3 Calculate Metrics"
      ]
    },
    {
      "cell_type": "code",
      "execution_count": null,
      "metadata": {
        "id": "-eD0-_EvDo6f",
        "outputId": "9b65902e-8d2b-4913-d914-4771cc3d7500"
      },
      "outputs": [
        {
          "data": {
            "text/plain": [
              "1.0"
            ]
          },
          "execution_count": 79,
          "metadata": {},
          "output_type": "execute_result"
        }
      ],
      "source": [
        "# Creating a metric object \n",
        "m = Recall()\n",
        "\n",
        "# Calculating the recall value \n",
        "m.update_state(y_true, y_hat)\n",
        "\n",
        "# Return Recall Result\n",
        "m.result().numpy()"
      ]
    },
    {
      "cell_type": "code",
      "execution_count": null,
      "metadata": {
        "id": "W27QZXr4Do6g",
        "outputId": "0b9a0827-d005-4eb1-9260-ae950985f48e"
      },
      "outputs": [
        {
          "data": {
            "text/plain": [
              "1.0"
            ]
          },
          "execution_count": 80,
          "metadata": {},
          "output_type": "execute_result"
        }
      ],
      "source": [
        "# Creating a metric object \n",
        "m = Precision()\n",
        "\n",
        "# Calculating the recall value \n",
        "m.update_state(y_true, y_hat)\n",
        "\n",
        "# Return Recall Result\n",
        "m.result().numpy()"
      ]
    },
    {
      "cell_type": "code",
      "execution_count": null,
      "metadata": {
        "id": "mX0GVuErDo6g",
        "outputId": "ac48f9a7-1978-42f4-9c50-fd1f8832ca83"
      },
      "outputs": [
        {
          "name": "stdout",
          "output_type": "stream",
          "text": [
            "0.99029124 1.0\n"
          ]
        }
      ],
      "source": [
        "r = Recall()\n",
        "p = Precision()\n",
        "\n",
        "for test_input, test_val, y_true in test_data.as_numpy_iterator():\n",
        "    yhat = siamese_model.predict([test_input, test_val])\n",
        "    r.update_state(y_true, yhat)\n",
        "    p.update_state(y_true,yhat) \n",
        "\n",
        "print(r.result().numpy(), p.result().numpy())"
      ]
    },
    {
      "cell_type": "markdown",
      "metadata": {
        "id": "GJWp2A2PDo6h"
      },
      "source": [
        "## 6.4 Viz Results"
      ]
    },
    {
      "cell_type": "code",
      "execution_count": null,
      "metadata": {
        "id": "O84YVufaDo6h",
        "outputId": "7355d671-c024-45c8-fb70-576892a82987"
      },
      "outputs": [
        {
          "data": {
            "image/png": "[encoded data removed]",
            "text/plain": [
              "<Figure size 720x576 with 2 Axes>"
            ]
          },
          "metadata": {
            "needs_background": "light"
          },
          "output_type": "display_data"
        }
      ],
      "source": [
        "# Set plot size \n",
        "plt.figure(figsize=(10,8))\n",
        "\n",
        "# Set first subplot\n",
        "plt.subplot(1,2,1)\n",
        "plt.imshow(test_input[3])\n",
        "\n",
        "# Set second subplot\n",
        "plt.subplot(1,2,2)\n",
        "plt.imshow(test_val[0])\n",
        "\n",
        "# Renders cleanly\n",
        "plt.show()"
      ]
    },
    {
      "cell_type": "markdown",
      "metadata": {
        "id": "IhwtVk6FDo6i"
      },
      "source": [
        "# 7. Save Model"
      ]
    },
    {
      "cell_type": "code",
      "execution_count": null,
      "metadata": {
        "id": "A7AjaK-9Do6j"
      },
      "outputs": [],
      "source": [
        "# Save weights\n",
        "siamese_model.save('siamesemodelv2.h5')"
      ]
    },
    {
      "cell_type": "code",
      "execution_count": null,
      "metadata": {
        "id": "wAVjv-FADo6j",
        "outputId": "13c37f06-42f6-4bbf-c698-4967f43f3648"
      },
      "outputs": [
        {
          "ename": "SyntaxError",
          "evalue": "invalid syntax (<ipython-input-84-bcb9e95971fb>, line 1)",
          "output_type": "error",
          "traceback": [
            "\u001b[1;36m  File \u001b[1;32m\"<ipython-input-84-bcb9e95971fb>\"\u001b[1;36m, line \u001b[1;32m1\u001b[0m\n\u001b[1;33m    iconv -f ascii -t utf8 [siamesemodelv2] > [siamesemodelv3]\u001b[0m\n\u001b[1;37m             ^\u001b[0m\n\u001b[1;31mSyntaxError\u001b[0m\u001b[1;31m:\u001b[0m invalid syntax\n"
          ]
        }
      ],
      "source": [
        "iconv -f ascii -t utf8 [siamesemodelv2] > [siamesemodelv3]"
      ]
    },
    {
      "cell_type": "code",
      "execution_count": null,
      "metadata": {
        "id": "itZsSd9GDo6j",
        "outputId": "9708a4b6-0d19-4df9-d442-1b4901942727"
      },
      "outputs": [
        {
          "data": {
            "text/plain": [
              "__main__.L1Dist"
            ]
          },
          "execution_count": 84,
          "metadata": {},
          "output_type": "execute_result"
        }
      ],
      "source": [
        "L1Dist"
      ]
    },
    {
      "cell_type": "code",
      "execution_count": null,
      "metadata": {
        "id": "85miLAxLDo6k",
        "outputId": "d09d6200-21d4-4174-bb42-1ee1d38c9e2f"
      },
      "outputs": [
        {
          "name": "stdout",
          "output_type": "stream",
          "text": [
            "WARNING:tensorflow:No training configuration found in the save file, so the model was *not* compiled. Compile it manually.\n"
          ]
        }
      ],
      "source": [
        "# Reload model \n",
        "siamese_model = tf.keras.models.load_model('siamesemodelv2.h5',\n",
        "                                   custom_objects={'L1Dist':L1Dist, 'BinaryCrossentropy':tf.losses.BinaryCrossentropy})"
      ]
    },
    {
      "cell_type": "code",
      "execution_count": null,
      "metadata": {
        "id": "oSapUhlGDo6k",
        "outputId": "62bce893-8bf5-4255-9e3d-60857fe0d66e"
      },
      "outputs": [
        {
          "data": {
            "text/plain": [
              "array([[0.9098384 ],\n",
              "       [0.941881  ],\n",
              "       [0.99105865],\n",
              "       [0.9998331 ]], dtype=float32)"
            ]
          },
          "execution_count": 86,
          "metadata": {},
          "output_type": "execute_result"
        }
      ],
      "source": [
        "# Make predictions with reloaded model\n",
        "siamese_model.predict([test_input, test_val])"
      ]
    },
    {
      "cell_type": "code",
      "execution_count": null,
      "metadata": {
        "id": "OOrjpYmvDo6k",
        "outputId": "99115031-3d8b-4759-fd8d-c131a97ae48f"
      },
      "outputs": [
        {
          "name": "stdout",
          "output_type": "stream",
          "text": [
            "Model: \"SiameseNetwork\"\n",
            "__________________________________________________________________________________________________\n",
            "Layer (type)                    Output Shape         Param #     Connected to                     \n",
            "==================================================================================================\n",
            "input_img (InputLayer)          [(None, 100, 100, 3) 0                                            \n",
            "__________________________________________________________________________________________________\n",
            "validation_img (InputLayer)     [(None, 100, 100, 3) 0                                            \n",
            "__________________________________________________________________________________________________\n",
            "embedding (Functional)          (None, 4096)         38960448    input_img[0][0]                  \n",
            "                                                                 validation_img[0][0]             \n",
            "__________________________________________________________________________________________________\n",
            "l1_dist_3 (L1Dist)              (None, 4096)         0           embedding[0][0]                  \n",
            "                                                                 embedding[1][0]                  \n",
            "__________________________________________________________________________________________________\n",
            "dense_3 (Dense)                 (None, 1)            4097        l1_dist_3[0][0]                  \n",
            "==================================================================================================\n",
            "Total params: 38,964,545\n",
            "Trainable params: 38,964,545\n",
            "Non-trainable params: 0\n",
            "__________________________________________________________________________________________________\n"
          ]
        }
      ],
      "source": [
        "# View model summary\n",
        "siamese_model.summary()"
      ]
    }
  ],
  "metadata": {
    "kernelspec": {
      "display_name": "Python 3",
      "language": "python",
      "name": "python3"
    },
    "language_info": {
      "codemirror_mode": {
        "name": "ipython",
        "version": 3
      },
      "file_extension": ".py",
      "mimetype": "text/x-python",
      "name": "python",
      "nbconvert_exporter": "python",
      "pygments_lexer": "ipython3",
      "version": "3.8.5"
    },
    "colab": {
      "provenance": [],
      "include_colab_link": true
    }
  },
  "nbformat": 4,
  "nbformat_minor": 0
}